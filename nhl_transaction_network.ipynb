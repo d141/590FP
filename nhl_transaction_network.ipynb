{
  "nbformat": 4,
  "nbformat_minor": 0,
  "metadata": {
    "colab": {
      "name": "nhl_transaction_network.ipynb",
      "provenance": [],
      "collapsed_sections": []
    },
    "kernelspec": {
      "name": "python3",
      "display_name": "Python 3"
    },
    "language_info": {
      "name": "python"
    }
  },
  "cells": [
    {
      "cell_type": "code",
      "metadata": {
        "id": "Vgdv93aXL1zp"
      },
      "source": [
        "from google.colab import files\n",
        "import pandas as pd\n",
        "import requests\n",
        "from bs4 import BeautifulSoup\n",
        "import csv\n",
        "import html5lib\n",
        "import time\n",
        "import networkx as nx\n",
        "import matplotlib.pyplot as plt\n",
        "import numpy as np\n",
        "\n",
        "#Read in all NHL transactions and filter for trades only\n",
        "df=pd.read_csv(\"Hockey_trades_2.csv\")\n",
        "trade_df = df[df['4'].str.contains(\"trade\")]"
      ],
      "execution_count": 2,
      "outputs": []
    },
    {
      "cell_type": "code",
      "metadata": {
        "id": "r4ZzNemcL8SR"
      },
      "source": [
        "#Current NHL teams\n",
        "teams = {\"Ducks\":{},\n",
        "\"Coyotes\":{},\n",
        "\"Bruins\":{},\n",
        "\"Sabres\":{},\n",
        "\"Flames\":{},\n",
        "\"Hurricanes\":{},\n",
        "\"Blackhawks\":{},\n",
        "\"Avalanche\":{},\n",
        "\"BlueJackets\":{},\n",
        "\"Stars\":{},\n",
        "\"RedWings\":{},\n",
        "\"Oilers\":{},\n",
        "\"Panthers\":{},\n",
        "\"Kings\":{},\n",
        "\"Wild\":{},\n",
        "\"Canadiens\":{},\n",
        "\"Predators\":{},\n",
        "\"Devils\":{},\n",
        "\"Islanders\":{},\n",
        "\"Rangers\":{},\n",
        "\"Senators\":{},\n",
        "\"Flyers\":{},\n",
        "\"Penguins\":{},\n",
        "\"Sharks\":{},\n",
        "\"Blues\":{},\n",
        "\"Lightning\":{},\n",
        "\"MapleLeafs\":{},\n",
        "\"Canucks\":{},\n",
        "\"GoldenKnights\":{},\n",
        "\"Capitals\":{},\n",
        "\"Jets\":{},\n",
        "                }"
      ],
      "execution_count": 3,
      "outputs": []
    },
    {
      "cell_type": "code",
      "metadata": {
        "id": "_UUUKKCa6cAL"
      },
      "source": [
        "trade_df = trade_df.drop([\"Unnamed: 0\"],axis=1)\n",
        "trade_df[\"4\"]=trade_df[\"4\"].apply(lambda x: x.replace(' ',''))\n",
        "trade_df[['Year','Month', 'Day']] = df['0'].str.split('-',expand=True)\n",
        "trade_df = trade_df.drop(columns=\"0\")\n",
        "\n",
        "\n",
        "new_df=pd.read_csv(\"Hockey_trades_1.csv\")\n",
        "\n",
        "new_df = new_df.drop([\"index\", \"Unnamed: 0\"],axis=1)\n",
        "new_df[\"Players Sent\"]=new_df[\"3\"].apply(lambda x: x.count('\\u2022'))\n",
        "new_df[\"Players Received\"]=new_df[\"2\"].apply(lambda x: x.count('\\u2022'))\n",
        "trade_df = new_df[new_df['4'].str.contains(\"trade\")]\n",
        "\n",
        "trade_df[['Year','Month', 'Day']] = df['0'].str.split('-',expand=True)\n",
        "trade_df = trade_df.drop(columns=\"0\")\n",
        "trade_df[\"4\"]=trade_df[\"4\"].apply(lambda x: x.replace(' ',''))"
      ],
      "execution_count": 6,
      "outputs": []
    },
    {
      "cell_type": "code",
      "metadata": {
        "id": "uPk6taHTAJw2"
      },
      "source": [
        "trade_df[\"4\"]=trade_df[\"4\"].apply(lambda x: x.replace('tradewith',''))"
      ],
      "execution_count": 36,
      "outputs": []
    },
    {
      "cell_type": "code",
      "metadata": {
        "id": "Ccrkp4uy_JyH"
      },
      "source": [
        "trade_df.to_csv(\"Hockey_trades_final\")"
      ],
      "execution_count": 38,
      "outputs": []
    },
    {
      "cell_type": "code",
      "metadata": {
        "colab": {
          "base_uri": "https://localhost:8080/",
          "height": 17
        },
        "id": "O4JE59Al_NyA",
        "outputId": "a5d2961f-d80c-4192-ed39-96b8c036b345"
      },
      "source": [
        "files.download('Hockey_trades_final')"
      ],
      "execution_count": 39,
      "outputs": [
        {
          "output_type": "display_data",
          "data": {
            "application/javascript": [
              "\n",
              "    async function download(id, filename, size) {\n",
              "      if (!google.colab.kernel.accessAllowed) {\n",
              "        return;\n",
              "      }\n",
              "      const div = document.createElement('div');\n",
              "      const label = document.createElement('label');\n",
              "      label.textContent = `Downloading \"${filename}\": `;\n",
              "      div.appendChild(label);\n",
              "      const progress = document.createElement('progress');\n",
              "      progress.max = size;\n",
              "      div.appendChild(progress);\n",
              "      document.body.appendChild(div);\n",
              "\n",
              "      const buffers = [];\n",
              "      let downloaded = 0;\n",
              "\n",
              "      const channel = await google.colab.kernel.comms.open(id);\n",
              "      // Send a message to notify the kernel that we're ready.\n",
              "      channel.send({})\n",
              "\n",
              "      for await (const message of channel.messages) {\n",
              "        // Send a message to notify the kernel that we're ready.\n",
              "        channel.send({})\n",
              "        if (message.buffers) {\n",
              "          for (const buffer of message.buffers) {\n",
              "            buffers.push(buffer);\n",
              "            downloaded += buffer.byteLength;\n",
              "            progress.value = downloaded;\n",
              "          }\n",
              "        }\n",
              "      }\n",
              "      const blob = new Blob(buffers, {type: 'application/binary'});\n",
              "      const a = document.createElement('a');\n",
              "      a.href = window.URL.createObjectURL(blob);\n",
              "      a.download = filename;\n",
              "      div.appendChild(a);\n",
              "      a.click();\n",
              "      div.remove();\n",
              "    }\n",
              "  "
            ],
            "text/plain": [
              "<IPython.core.display.Javascript object>"
            ]
          },
          "metadata": {
            "tags": []
          }
        },
        {
          "output_type": "display_data",
          "data": {
            "application/javascript": [
              "download(\"download_4903ee44-c2fc-4a20-91be-c5b18f0c6549\", \"Hockey_trades_final\", 1507372)"
            ],
            "text/plain": [
              "<IPython.core.display.Javascript object>"
            ]
          },
          "metadata": {
            "tags": []
          }
        }
      ]
    },
    {
      "cell_type": "code",
      "metadata": {
        "colab": {
          "base_uri": "https://localhost:8080/",
          "height": 204
        },
        "id": "ewlsfFv7_kxF",
        "outputId": "b217d32f-a054-4959-bdfa-2d3ff3fbba23"
      },
      "source": [
        "trade_df.tail()"
      ],
      "execution_count": 40,
      "outputs": [
        {
          "output_type": "execute_result",
          "data": {
            "text/html": [
              "<div>\n",
              "<style scoped>\n",
              "    .dataframe tbody tr th:only-of-type {\n",
              "        vertical-align: middle;\n",
              "    }\n",
              "\n",
              "    .dataframe tbody tr th {\n",
              "        vertical-align: top;\n",
              "    }\n",
              "\n",
              "    .dataframe thead th {\n",
              "        text-align: right;\n",
              "    }\n",
              "</style>\n",
              "<table border=\"1\" class=\"dataframe\">\n",
              "  <thead>\n",
              "    <tr style=\"text-align: right;\">\n",
              "      <th></th>\n",
              "      <th>1</th>\n",
              "      <th>2</th>\n",
              "      <th>3</th>\n",
              "      <th>4</th>\n",
              "      <th>Players Sent</th>\n",
              "      <th>Players Received</th>\n",
              "      <th>Year</th>\n",
              "      <th>Month</th>\n",
              "      <th>Day</th>\n",
              "    </tr>\n",
              "  </thead>\n",
              "  <tbody>\n",
              "    <tr>\n",
              "      <th>81695</th>\n",
              "      <td>Jets</td>\n",
              "      <td>• Jordie Benn</td>\n",
              "      <td>• 2021 sixth round pick (?-?)</td>\n",
              "      <td>Canucks</td>\n",
              "      <td>1</td>\n",
              "      <td>1</td>\n",
              "      <td>2021</td>\n",
              "      <td>04</td>\n",
              "      <td>12</td>\n",
              "    </tr>\n",
              "    <tr>\n",
              "      <th>81696</th>\n",
              "      <td>Blackhawks</td>\n",
              "      <td>• 2021 fourth round pick (?-?)</td>\n",
              "      <td>• Madison Bowey• 2021 fifth round pick (?-?)</td>\n",
              "      <td>Canucks</td>\n",
              "      <td>2</td>\n",
              "      <td>1</td>\n",
              "      <td>2021</td>\n",
              "      <td>04</td>\n",
              "      <td>12</td>\n",
              "    </tr>\n",
              "    <tr>\n",
              "      <th>81697</th>\n",
              "      <td>Canucks</td>\n",
              "      <td>• Madison Bowey• 2021 fifth round pick (?-?)</td>\n",
              "      <td>• 2021 fourth round pick (?-?)</td>\n",
              "      <td>Blackhawks</td>\n",
              "      <td>1</td>\n",
              "      <td>2</td>\n",
              "      <td>2021</td>\n",
              "      <td>04</td>\n",
              "      <td>12</td>\n",
              "    </tr>\n",
              "    <tr>\n",
              "      <th>81698</th>\n",
              "      <td>Capitals</td>\n",
              "      <td>• Anthony Mantha</td>\n",
              "      <td>• Jakub Vrana• Richard Panik• 2021 first roun...</td>\n",
              "      <td>RedWings</td>\n",
              "      <td>4</td>\n",
              "      <td>1</td>\n",
              "      <td>2021</td>\n",
              "      <td>04</td>\n",
              "      <td>12</td>\n",
              "    </tr>\n",
              "    <tr>\n",
              "      <th>81699</th>\n",
              "      <td>Red Wings</td>\n",
              "      <td>• Jakub Vrana• Richard Panik• 2021 first roun...</td>\n",
              "      <td>• Anthony Mantha</td>\n",
              "      <td>Capitals</td>\n",
              "      <td>1</td>\n",
              "      <td>4</td>\n",
              "      <td>2021</td>\n",
              "      <td>04</td>\n",
              "      <td>12</td>\n",
              "    </tr>\n",
              "  </tbody>\n",
              "</table>\n",
              "</div>"
            ],
            "text/plain": [
              "                 1                                                  2  ... Month Day\n",
              "81695         Jets                                      • Jordie Benn  ...    04  12\n",
              "81696   Blackhawks                     • 2021 fourth round pick (?-?)  ...    04  12\n",
              "81697      Canucks       • Madison Bowey• 2021 fifth round pick (?-?)  ...    04  12\n",
              "81698     Capitals                                   • Anthony Mantha  ...    04  12\n",
              "81699    Red Wings   • Jakub Vrana• Richard Panik• 2021 first roun...  ...    04  12\n",
              "\n",
              "[5 rows x 9 columns]"
            ]
          },
          "metadata": {
            "tags": []
          },
          "execution_count": 40
        }
      ]
    },
    {
      "cell_type": "code",
      "metadata": {
        "id": "fsq0J4vgzCJQ"
      },
      "source": [
        "#TODO\n",
        "#Fix space formating in column 4 xxxx\n",
        "#Fix data for teams that have moved or changed names\n",
        "#Split the date columns xxxx\n",
        "#Variable for players sent/received xxxx"
      ],
      "execution_count": 41,
      "outputs": []
    },
    {
      "cell_type": "code",
      "metadata": {
        "id": "Rw0abwrWL-bW"
      },
      "source": [
        "#Build nested dictionary of teams and their trade partners\n",
        "\n",
        "for index, row in trade_df.iterrows():\n",
        "    a = row[\"1\"]\n",
        "    for team in teams.keys():\n",
        "      if team in row[\"4\"]:\n",
        "        b=team\n",
        "        \n",
        "        if a not in teams.keys():\n",
        "          continue\n",
        "\n",
        "        if b not in teams[a].keys():\n",
        "          teams[a][b] = 1\n",
        "        else:\n",
        "          teams[a][b] += 1\n",
        "\n",
        "#For some reason the csv indicated that a team had traded with itself. Remove these\n",
        "for team in teams:\n",
        "  if team in teams[team].keys():\n",
        "    teams[team].pop(team, None)\n",
        "\n"
      ],
      "execution_count": 48,
      "outputs": []
    },
    {
      "cell_type": "code",
      "metadata": {
        "colab": {
          "base_uri": "https://localhost:8080/"
        },
        "id": "2VsGE8csAXr8",
        "outputId": "47c3bbbe-5f8c-440a-e98d-3c8fad0625b2"
      },
      "source": [
        "teams"
      ],
      "execution_count": 49,
      "outputs": [
        {
          "output_type": "execute_result",
          "data": {
            "text/plain": [
              "{'Avalanche': {},\n",
              " 'Blackhawks': {},\n",
              " 'BlueJackets': {},\n",
              " 'Blues': {},\n",
              " 'Bruins': {},\n",
              " 'Canadiens': {},\n",
              " 'Canucks': {},\n",
              " 'Capitals': {},\n",
              " 'Coyotes': {},\n",
              " 'Devils': {},\n",
              " 'Ducks': {},\n",
              " 'Flames': {},\n",
              " 'Flyers': {},\n",
              " 'GoldenKnights': {},\n",
              " 'Hurricanes': {},\n",
              " 'Islanders': {},\n",
              " 'Jets': {},\n",
              " 'Kings': {},\n",
              " 'Lightning': {},\n",
              " 'MapleLeafs': {},\n",
              " 'Oilers': {},\n",
              " 'Panthers': {},\n",
              " 'Penguins': {},\n",
              " 'Predators': {},\n",
              " 'Rangers': {},\n",
              " 'RedWings': {},\n",
              " 'Sabres': {},\n",
              " 'Senators': {},\n",
              " 'Sharks': {},\n",
              " 'Stars': {},\n",
              " 'Wild': {}}"
            ]
          },
          "metadata": {
            "tags": []
          },
          "execution_count": 49
        }
      ]
    },
    {
      "cell_type": "code",
      "metadata": {
        "id": "LwIrc8lsMDin"
      },
      "source": [
        "#Construct the graph\n",
        "#Edge weights correspond to number of transactions\n",
        "G = nx.Graph()\n",
        "\n",
        "for team in teams:\n",
        "  G.add_node(team)\n",
        "\n",
        "for team_A in teams:\n",
        "  for team_B in teams[team_A]:\n",
        "    G.add_edge(team_A, team_B, weight=teams[team_A][team_B])\n"
      ],
      "execution_count": 43,
      "outputs": []
    },
    {
      "cell_type": "code",
      "metadata": {
        "colab": {
          "base_uri": "https://localhost:8080/",
          "height": 819
        },
        "id": "ANv7V1TuMFSG",
        "outputId": "f4e13d5f-03ec-4be1-fc42-c817dc0ff5b5"
      },
      "source": [
        "plt.figure(figsize=(10,10))\n",
        "\n",
        "d = dict(G.degree)\n",
        "weights = nx.get_edge_attributes(G,'weight').values()\n",
        "\n",
        "\n",
        "#nx.draw_networkx_edge_labels(G, pos=nx.spring_layout(G))\n",
        "nx.draw(G, nodelist=d.keys(), width=[weight/8 for weight in weights], node_size=[np.log(v) * 500 for v in d.values()], with_labels=True, pos=nx.spring_layout(G),font_color='k',font_size=8)\n",
        "plt.show()"
      ],
      "execution_count": 45,
      "outputs": [
        {
          "output_type": "stream",
          "text": [
            "/usr/local/lib/python3.7/dist-packages/ipykernel_launcher.py:8: RuntimeWarning: divide by zero encountered in log\n",
            "  \n",
            "/usr/local/lib/python3.7/dist-packages/matplotlib/collections.py:885: RuntimeWarning: invalid value encountered in sqrt\n",
            "  scale = np.sqrt(self._sizes) * dpi / 72.0 * self._factor\n"
          ],
          "name": "stderr"
        },
        {
          "output_type": "display_data",
          "data": {
            "image/png": "[encoded data removed]",
            "text/plain": [
              "<Figure size 720x720 with 1 Axes>"
            ]
          },
          "metadata": {
            "tags": []
          }
        }
      ]
    },
    {
      "cell_type": "code",
      "metadata": {
        "colab": {
          "base_uri": "https://localhost:8080/",
          "height": 282
        },
        "id": "Cu1D1jMuNQAI",
        "outputId": "04ad1487-e350-4c96-d749-74808f8eb4f1"
      },
      "source": [
        "nx.average_shortest_path_length(G)"
      ],
      "execution_count": 46,
      "outputs": [
        {
          "output_type": "error",
          "ename": "NetworkXError",
          "evalue": "ignored",
          "traceback": [
            "\u001b[0;31m---------------------------------------------------------------------------\u001b[0m",
            "\u001b[0;31mNetworkXError\u001b[0m                             Traceback (most recent call last)",
            "\u001b[0;32m<ipython-input-46-033aa892eae1>\u001b[0m in \u001b[0;36m<module>\u001b[0;34m()\u001b[0m\n\u001b[0;32m----> 1\u001b[0;31m \u001b[0mnx\u001b[0m\u001b[0;34m.\u001b[0m\u001b[0maverage_shortest_path_length\u001b[0m\u001b[0;34m(\u001b[0m\u001b[0mG\u001b[0m\u001b[0;34m)\u001b[0m\u001b[0;34m\u001b[0m\u001b[0;34m\u001b[0m\u001b[0m\n\u001b[0m",
            "\u001b[0;32m/usr/local/lib/python3.7/dist-packages/networkx/algorithms/shortest_paths/generic.py\u001b[0m in \u001b[0;36maverage_shortest_path_length\u001b[0;34m(G, weight, method)\u001b[0m\n\u001b[1;32m    387\u001b[0m         \u001b[0;32mraise\u001b[0m \u001b[0mnx\u001b[0m\u001b[0;34m.\u001b[0m\u001b[0mNetworkXError\u001b[0m\u001b[0;34m(\u001b[0m\u001b[0;34m\"Graph is not weakly connected.\"\u001b[0m\u001b[0;34m)\u001b[0m\u001b[0;34m\u001b[0m\u001b[0;34m\u001b[0m\u001b[0m\n\u001b[1;32m    388\u001b[0m     \u001b[0;32mif\u001b[0m \u001b[0;32mnot\u001b[0m \u001b[0mG\u001b[0m\u001b[0;34m.\u001b[0m\u001b[0mis_directed\u001b[0m\u001b[0;34m(\u001b[0m\u001b[0;34m)\u001b[0m \u001b[0;32mand\u001b[0m \u001b[0;32mnot\u001b[0m \u001b[0mnx\u001b[0m\u001b[0;34m.\u001b[0m\u001b[0mis_connected\u001b[0m\u001b[0;34m(\u001b[0m\u001b[0mG\u001b[0m\u001b[0;34m)\u001b[0m\u001b[0;34m:\u001b[0m\u001b[0;34m\u001b[0m\u001b[0;34m\u001b[0m\u001b[0m\n\u001b[0;32m--> 389\u001b[0;31m         \u001b[0;32mraise\u001b[0m \u001b[0mnx\u001b[0m\u001b[0;34m.\u001b[0m\u001b[0mNetworkXError\u001b[0m\u001b[0;34m(\u001b[0m\u001b[0;34m\"Graph is not connected.\"\u001b[0m\u001b[0;34m)\u001b[0m\u001b[0;34m\u001b[0m\u001b[0;34m\u001b[0m\u001b[0m\n\u001b[0m\u001b[1;32m    390\u001b[0m \u001b[0;34m\u001b[0m\u001b[0m\n\u001b[1;32m    391\u001b[0m     \u001b[0;31m# Compute all-pairs shortest paths.\u001b[0m\u001b[0;34m\u001b[0m\u001b[0;34m\u001b[0m\u001b[0;34m\u001b[0m\u001b[0m\n",
            "\u001b[0;31mNetworkXError\u001b[0m: Graph is not connected."
          ]
        }
      ]
    },
    {
      "cell_type": "code",
      "metadata": {
        "id": "biz2wM9LNt2a"
      },
      "source": [
        "page_rank_dict = nx.pagerank(G)"
      ],
      "execution_count": null,
      "outputs": []
    },
    {
      "cell_type": "code",
      "metadata": {
        "id": "ZoAVzCIHN9df"
      },
      "source": [
        "cups_df=pd.read_csv(\"stanley_cup_data.csv\")"
      ],
      "execution_count": null,
      "outputs": []
    },
    {
      "cell_type": "code",
      "metadata": {
        "colab": {
          "base_uri": "https://localhost:8080/",
          "height": 204
        },
        "id": "pXmX7ZvNPGeF",
        "outputId": "3c3c9f51-f798-4a61-a2f2-932707d677c5"
      },
      "source": [
        "cups_df.tail()"
      ],
      "execution_count": null,
      "outputs": [
        {
          "output_type": "execute_result",
          "data": {
            "text/html": [
              "<div>\n",
              "<style scoped>\n",
              "    .dataframe tbody tr th:only-of-type {\n",
              "        vertical-align: middle;\n",
              "    }\n",
              "\n",
              "    .dataframe tbody tr th {\n",
              "        vertical-align: top;\n",
              "    }\n",
              "\n",
              "    .dataframe thead th {\n",
              "        text-align: right;\n",
              "    }\n",
              "</style>\n",
              "<table border=\"1\" class=\"dataframe\">\n",
              "  <thead>\n",
              "    <tr style=\"text-align: right;\">\n",
              "      <th></th>\n",
              "      <th>Apps</th>\n",
              "      <th>Team</th>\n",
              "      <th>Wins</th>\n",
              "      <th>Losses</th>\n",
              "      <th>Win %</th>\n",
              "      <th>Season(s)</th>\n",
              "    </tr>\n",
              "  </thead>\n",
              "  <tbody>\n",
              "    <tr>\n",
              "      <th>26</th>\n",
              "      <td>1</td>\n",
              "      <td>GoldenKnights</td>\n",
              "      <td>0</td>\n",
              "      <td>1</td>\n",
              "      <td>0.0</td>\n",
              "      <td>2018</td>\n",
              "    </tr>\n",
              "    <tr>\n",
              "      <th>27</th>\n",
              "      <td>0</td>\n",
              "      <td>Coyotes</td>\n",
              "      <td>0</td>\n",
              "      <td>0</td>\n",
              "      <td>0.0</td>\n",
              "      <td>0</td>\n",
              "    </tr>\n",
              "    <tr>\n",
              "      <th>28</th>\n",
              "      <td>0</td>\n",
              "      <td>BlueJackets</td>\n",
              "      <td>0</td>\n",
              "      <td>0</td>\n",
              "      <td>0.0</td>\n",
              "      <td>0</td>\n",
              "    </tr>\n",
              "    <tr>\n",
              "      <th>29</th>\n",
              "      <td>0</td>\n",
              "      <td>Wild</td>\n",
              "      <td>0</td>\n",
              "      <td>0</td>\n",
              "      <td>0.0</td>\n",
              "      <td>0</td>\n",
              "    </tr>\n",
              "    <tr>\n",
              "      <th>30</th>\n",
              "      <td>0</td>\n",
              "      <td>Jets</td>\n",
              "      <td>0</td>\n",
              "      <td>0</td>\n",
              "      <td>0.0</td>\n",
              "      <td>0</td>\n",
              "    </tr>\n",
              "  </tbody>\n",
              "</table>\n",
              "</div>"
            ],
            "text/plain": [
              "    Apps           Team  Wins Losses  Win % Season(s)\n",
              "26     1  GoldenKnights     0      1    0.0      2018\n",
              "27     0        Coyotes     0      0    0.0         0\n",
              "28     0    BlueJackets     0      0    0.0         0\n",
              "29     0           Wild     0      0    0.0         0\n",
              "30     0           Jets     0      0    0.0         0"
            ]
          },
          "metadata": {
            "tags": []
          },
          "execution_count": 25
        }
      ]
    },
    {
      "cell_type": "code",
      "metadata": {
        "id": "qF_wav6iPMzF"
      },
      "source": [
        "for index, row in cups_df.iterrows():\n",
        "  team = row['Team']\n",
        "  teams[team]['cup_appearances'] = row['Apps']\n",
        "  teams[team]['cup_wins'] = row['Wins']\n",
        "  teams[team]['cup_losses'] = row['Losses']\n",
        "  teams[team]['cup_win_pct'] = row['Win %']\n",
        "\n"
      ],
      "execution_count": null,
      "outputs": []
    },
    {
      "cell_type": "code",
      "metadata": {
        "id": "A7aaOfJGQi-t"
      },
      "source": [
        ""
      ],
      "execution_count": null,
      "outputs": []
    },
    {
      "cell_type": "code",
      "metadata": {
        "id": "3q2mvzC0Pyvr"
      },
      "source": [
        "page_rank_list=[value for value in page_rank_dict.values()]\n",
        "cup_app_list = []\n",
        "for key in page_rank_dict:\n",
        "  cup_app_list.append(teams[key][\"cup_appearances\"])"
      ],
      "execution_count": null,
      "outputs": []
    },
    {
      "cell_type": "code",
      "metadata": {
        "id": "pZoPNpIlXjAi"
      },
      "source": [
        "cup_win_pct_list = []\n",
        "for key in page_rank_dict:\n",
        "  cup_win_pct_list.append(teams[key][\"cup_win_pct\"])"
      ],
      "execution_count": null,
      "outputs": []
    },
    {
      "cell_type": "code",
      "metadata": {
        "colab": {
          "base_uri": "https://localhost:8080/"
        },
        "id": "M48rkn33X9RH",
        "outputId": "c5646c94-38a5-48c5-d0fd-5f8d81eb3e4f"
      },
      "source": [
        "len(page_rank_list)"
      ],
      "execution_count": null,
      "outputs": [
        {
          "output_type": "execute_result",
          "data": {
            "text/plain": [
              "31"
            ]
          },
          "metadata": {
            "tags": []
          },
          "execution_count": 39
        }
      ]
    },
    {
      "cell_type": "code",
      "metadata": {
        "colab": {
          "base_uri": "https://localhost:8080/",
          "height": 296
        },
        "id": "1Np0tqkbQiS0",
        "outputId": "bc15daea-7113-44fe-87d8-9d4fcc19e161"
      },
      "source": [
        "plt.xlabel(\"PageRank\")\n",
        "plt.ylabel(\"Stanley Cup Appearances\")\n",
        "plt.scatter(x=page_rank_list, y=cup_app_list)"
      ],
      "execution_count": null,
      "outputs": [
        {
          "output_type": "execute_result",
          "data": {
            "text/plain": [
              "<matplotlib.collections.PathCollection at 0x7f512eebdc90>"
            ]
          },
          "metadata": {
            "tags": []
          },
          "execution_count": 30
        },
        {
          "output_type": "display_data",
          "data": {
            "image/png": "[encoded data removed]",
            "text/plain": [
              "<Figure size 432x288 with 1 Axes>"
            ]
          },
          "metadata": {
            "tags": [],
            "needs_background": "light"
          }
        }
      ]
    },
    {
      "cell_type": "code",
      "metadata": {
        "colab": {
          "base_uri": "https://localhost:8080/",
          "height": 296
        },
        "id": "_qFUBec6QdN7",
        "outputId": "bf012324-14b8-40a5-9701-24dba5daae7f"
      },
      "source": [
        "plt.xlabel(\"PageRank\")\n",
        "plt.ylabel(\"Stanley Cup Win %\")\n",
        "plt.scatter(x=page_rank_list, y=cup_win_pct_list)"
      ],
      "execution_count": null,
      "outputs": [
        {
          "output_type": "execute_result",
          "data": {
            "text/plain": [
              "<matplotlib.collections.PathCollection at 0x7f512ee95790>"
            ]
          },
          "metadata": {
            "tags": []
          },
          "execution_count": 40
        },
        {
          "output_type": "display_data",
          "data": {
            "image/png": "[encoded data removed]",
            "text/plain": [
              "<Figure size 432x288 with 1 Axes>"
            ]
          },
          "metadata": {
            "tags": [],
            "needs_background": "light"
          }
        }
      ]
    },
    {
      "cell_type": "code",
      "metadata": {
        "id": "7tqym5X3XzZA"
      },
      "source": [
        ""
      ],
      "execution_count": null,
      "outputs": []
    }
  ]
}