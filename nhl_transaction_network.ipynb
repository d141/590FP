{
  "nbformat": 4,
  "nbformat_minor": 0,
  "metadata": {
    "colab": {
      "name": "nhl_transaction_network.ipynb",
      "provenance": [],
      "collapsed_sections": []
    },
    "kernelspec": {
      "name": "python3",
      "display_name": "Python 3"
    },
    "language_info": {
      "name": "python"
    }
  },
  "cells": [
    {
      "cell_type": "code",
      "metadata": {
        "id": "Vgdv93aXL1zp"
      },
      "source": [
        "from google.colab import files\n",
        "import pandas as pd\n",
        "import requests\n",
        "from bs4 import BeautifulSoup\n",
        "import csv\n",
        "import html5lib\n",
        "import time\n",
        "import networkx as nx\n",
        "import matplotlib.pyplot as plt\n",
        "import numpy as np\n",
        "\n",
        "#Read in all NHL transactions and filter for trades only\n",
        "#df=pd.read_csv(\"Hockey_trades_final.csv\")"
      ],
      "execution_count": null,
      "outputs": []
    },
    {
      "cell_type": "code",
      "metadata": {
        "id": "Uz57s-c0dsIt"
      },
      "source": [
        "import io\n",
        "import requests\n",
        "url=\"https://raw.githubusercontent.com/d141/590FP/main/Hockey_trades_final.csv\"\n",
        "s=requests.get(url).content\n",
        "df=pd.read_csv(io.StringIO(s.decode('utf-8')))"
      ],
      "execution_count": null,
      "outputs": []
    },
    {
      "cell_type": "markdown",
      "metadata": {
        "id": "xtdbQSyEYTyx"
      },
      "source": [
        "# Build Networks"
      ]
    },
    {
      "cell_type": "code",
      "metadata": {
        "id": "r4ZzNemcL8SR"
      },
      "source": [
        "#Current NHL teams\n",
        "teams = {\"Ducks\":{},\n",
        "\"Coyotes\":{},\n",
        "\"Bruins\":{},\n",
        "\"Sabres\":{},\n",
        "\"Flames\":{},\n",
        "\"Hurricanes\":{},\n",
        "\"Blackhawks\":{},\n",
        "\"Avalanche\":{},\n",
        "\"BlueJackets\":{},\n",
        "\"Stars\":{},\n",
        "\"RedWings\":{},\n",
        "\"Oilers\":{},\n",
        "\"Panthers\":{},\n",
        "\"Kings\":{},\n",
        "\"Wild\":{},\n",
        "\"Canadiens\":{},\n",
        "\"Predators\":{},\n",
        "\"Devils\":{},\n",
        "\"Islanders\":{},\n",
        "\"Rangers\":{},\n",
        "\"Senators\":{},\n",
        "\"Flyers\":{},\n",
        "\"Penguins\":{},\n",
        "\"Sharks\":{},\n",
        "\"Blues\":{},\n",
        "\"Lightning\":{},\n",
        "\"MapleLeafs\":{},\n",
        "\"Canucks\":{},\n",
        "\"GoldenKnights\":{},\n",
        "\"Capitals\":{},\n",
        "\"Jets\":{},\n",
        "                }"
      ],
      "execution_count": null,
      "outputs": []
    },
    {
      "cell_type": "code",
      "metadata": {
        "id": "fsq0J4vgzCJQ"
      },
      "source": [
        "#TODO\n",
        "#Fix space formating in column 4 xxxx\n",
        "#Fix data for teams that have moved or changed names xxx\n",
        "#Split the date columns xxxx\n",
        "#Variable for players sent/received xxxx"
      ],
      "execution_count": null,
      "outputs": []
    },
    {
      "cell_type": "code",
      "metadata": {
        "colab": {
          "base_uri": "https://localhost:8080/",
          "height": 293
        },
        "id": "-SH6umW3pqiy",
        "outputId": "c843b6c0-0a61-4cad-db8a-043cb6624553"
      },
      "source": [
        "df.tail()"
      ],
      "execution_count": null,
      "outputs": [
        {
          "output_type": "execute_result",
          "data": {
            "text/html": [
              "<div>\n",
              "<style scoped>\n",
              "    .dataframe tbody tr th:only-of-type {\n",
              "        vertical-align: middle;\n",
              "    }\n",
              "\n",
              "    .dataframe tbody tr th {\n",
              "        vertical-align: top;\n",
              "    }\n",
              "\n",
              "    .dataframe thead th {\n",
              "        text-align: right;\n",
              "    }\n",
              "</style>\n",
              "<table border=\"1\" class=\"dataframe\">\n",
              "  <thead>\n",
              "    <tr style=\"text-align: right;\">\n",
              "      <th></th>\n",
              "      <th>Unnamed: 0</th>\n",
              "      <th>Team A</th>\n",
              "      <th>Asset Sent</th>\n",
              "      <th>Asset Received</th>\n",
              "      <th>Team B</th>\n",
              "      <th>Num Players Sent</th>\n",
              "      <th>Num Player Received</th>\n",
              "      <th>Year</th>\n",
              "      <th>Month</th>\n",
              "      <th>Day</th>\n",
              "    </tr>\n",
              "  </thead>\n",
              "  <tbody>\n",
              "    <tr>\n",
              "      <th>8359</th>\n",
              "      <td>12539</td>\n",
              "      <td>Jets</td>\n",
              "      <td>• Jordie Benn</td>\n",
              "      <td>• 2021 sixth round pick (?-?)</td>\n",
              "      <td>Canucks</td>\n",
              "      <td>1</td>\n",
              "      <td>1</td>\n",
              "      <td>2021</td>\n",
              "      <td>4</td>\n",
              "      <td>12</td>\n",
              "    </tr>\n",
              "    <tr>\n",
              "      <th>8360</th>\n",
              "      <td>12540</td>\n",
              "      <td>Blackhawks</td>\n",
              "      <td>• 2021 fourth round pick (?-?)</td>\n",
              "      <td>• Madison Bowey• 2021 fifth round pick (?-?)</td>\n",
              "      <td>Canucks</td>\n",
              "      <td>2</td>\n",
              "      <td>1</td>\n",
              "      <td>2021</td>\n",
              "      <td>4</td>\n",
              "      <td>12</td>\n",
              "    </tr>\n",
              "    <tr>\n",
              "      <th>8361</th>\n",
              "      <td>12541</td>\n",
              "      <td>Canucks</td>\n",
              "      <td>• Madison Bowey• 2021 fifth round pick (?-?)</td>\n",
              "      <td>• 2021 fourth round pick (?-?)</td>\n",
              "      <td>Blackhawks</td>\n",
              "      <td>1</td>\n",
              "      <td>2</td>\n",
              "      <td>2021</td>\n",
              "      <td>4</td>\n",
              "      <td>12</td>\n",
              "    </tr>\n",
              "    <tr>\n",
              "      <th>8362</th>\n",
              "      <td>12542</td>\n",
              "      <td>Capitals</td>\n",
              "      <td>• Anthony Mantha</td>\n",
              "      <td>• Jakub Vrana• Richard Panik• 2021 first roun...</td>\n",
              "      <td>RedWings</td>\n",
              "      <td>4</td>\n",
              "      <td>1</td>\n",
              "      <td>2021</td>\n",
              "      <td>4</td>\n",
              "      <td>12</td>\n",
              "    </tr>\n",
              "    <tr>\n",
              "      <th>8363</th>\n",
              "      <td>12543</td>\n",
              "      <td>RedWings</td>\n",
              "      <td>• Jakub Vrana• Richard Panik• 2021 first roun...</td>\n",
              "      <td>• Anthony Mantha</td>\n",
              "      <td>Capitals</td>\n",
              "      <td>1</td>\n",
              "      <td>4</td>\n",
              "      <td>2021</td>\n",
              "      <td>4</td>\n",
              "      <td>12</td>\n",
              "    </tr>\n",
              "  </tbody>\n",
              "</table>\n",
              "</div>"
            ],
            "text/plain": [
              "      Unnamed: 0      Team A  ... Month Day\n",
              "8359       12539        Jets  ...     4  12\n",
              "8360       12540  Blackhawks  ...     4  12\n",
              "8361       12541     Canucks  ...     4  12\n",
              "8362       12542    Capitals  ...     4  12\n",
              "8363       12543    RedWings  ...     4  12\n",
              "\n",
              "[5 rows x 10 columns]"
            ]
          },
          "metadata": {
            "tags": []
          },
          "execution_count": 5
        }
      ]
    },
    {
      "cell_type": "code",
      "metadata": {
        "id": "Rw0abwrWL-bW"
      },
      "source": [
        "#Build nested dictionary of teams and their trade partners\n",
        "\n",
        "network_dict = {}\n",
        "\n",
        "for index, row in df.iterrows():\n",
        "\n",
        "  #Figure out what season we're in\n",
        "  year = row['Year']\n",
        "  if row['Month'] < 7:\n",
        "    season = f\"{year-1} - {year}\"\n",
        "  else:\n",
        "    season = f\"{year} - {year + 1}\"\n",
        "  \n",
        "  #Loop through teams dictionary and starting finding team A and team B\n",
        "  a = row[\"Team A\"]\n",
        "  for team in teams.keys():\n",
        "    if team in row[\"Team B\"]:\n",
        "      b=team\n",
        "      \n",
        "      '''\n",
        "      if b==\"Senators\" or a==\"Senators\":\n",
        "        if year < 1992:\n",
        "          continue\n",
        "      '''\n",
        "\n",
        "      if a not in teams.keys():\n",
        "        continue\n",
        "\n",
        "      if season not in teams[a].keys():\n",
        "        teams[a][season]={}\n",
        "      \n",
        "      if season not in network_dict.keys():\n",
        "        network_dict[season] = {}\n",
        "\n",
        "      if a not in network_dict[season].keys():\n",
        "        network_dict[season][a] = {}\n",
        "\n",
        "      if b not in teams[a][season].keys():\n",
        "        teams[a][season][b] = 1\n",
        "      else:\n",
        "        teams[a][season][b] += 1\n",
        "\n",
        "      if b not in network_dict[season][a].keys():\n",
        "        network_dict[season][a][b] = 1\n",
        "      else:\n",
        "        network_dict[season][a][b] += 1\n",
        "\n",
        "      try:  \n",
        "        network_dict[season][a]['net_players'] +=  row['Num Player Received'] - row['Num Players Sent']\n",
        "      except:\n",
        "        network_dict[season][a]['net_players'] =  row['Num Player Received'] - row['Num Players Sent']\n",
        "\n",
        "      try:  \n",
        "        network_dict[season][b]['net_players'] +=  row['Num Players Sent'] - row['Num Player Received']\n",
        "      except:\n",
        "        try:\n",
        "          network_dict[season][b]['net_players'] =  row['Num Players Sent'] - row['Num Player Received']\n",
        "        except:\n",
        "          network_dict[season][b] = {}\n",
        "          network_dict[season][b]['net_players'] =  row['Num Players Sent'] - row['Num Player Received']\n",
        "\n",
        "\n",
        "\n",
        "#For some reason the csv indicated that a team had traded with itself. Remove these\n",
        "for team in teams:\n",
        "  if team in teams[team].keys():\n",
        "    teams[team].pop(team, None)\n",
        "\n"
      ],
      "execution_count": null,
      "outputs": []
    },
    {
      "cell_type": "code",
      "metadata": {
        "colab": {
          "base_uri": "https://localhost:8080/"
        },
        "id": "ltuHeVWSsp_n",
        "outputId": "05c2d833-d87b-49d1-94ec-800f87ecdc4b"
      },
      "source": [
        "network_dict['2000 - 2001'][\"Bruins\"]['net_players']"
      ],
      "execution_count": null,
      "outputs": [
        {
          "output_type": "execute_result",
          "data": {
            "text/plain": [
              "-4"
            ]
          },
          "metadata": {
            "tags": []
          },
          "execution_count": 7
        }
      ]
    },
    {
      "cell_type": "code",
      "metadata": {
        "id": "LwIrc8lsMDin"
      },
      "source": [
        "#Construct the graph\n",
        "#Edge weights correspond to number of transactions\n",
        "\n",
        "networks_by_year = {}\n",
        "year=2000\n",
        "for i in range(10):\n",
        "  season_string=f\"{year + i} - {year + 1 + i}\"\n",
        "\n",
        "  G = nx.Graph()\n",
        "\n",
        "  for team in teams.keys():\n",
        "\n",
        "    G.add_node(team)\n",
        "\n",
        "  for team_A in network_dict[season_string].keys():\n",
        "    for team_B in network_dict[season_string][team_A].keys():\n",
        "      G.add_edge(team_A, team_B, weight=network_dict[season_string][team_A][team_B])\n",
        "  G.remove_nodes_from(list(nx.isolates(G)))\n",
        "  G.remove_nodes_from(['net_players'])\n",
        "  for node in G.nodes:\n",
        "    try:\n",
        "      G.nodes[node]['net_players'] = network_dict[season_string][node]['net_players']\n",
        "    except:\n",
        "      print(node, season_string)\n",
        "  networks_by_year[season_string] = G"
      ],
      "execution_count": null,
      "outputs": []
    },
    {
      "cell_type": "markdown",
      "metadata": {
        "id": "bVfpWSEQYA0k"
      },
      "source": [
        "# Viz Scripts"
      ]
    },
    {
      "cell_type": "code",
      "metadata": {
        "id": "Ncv79eE6EgNS"
      },
      "source": [
        "'''\n",
        "fig, axes = plt.subplots(nrows=2, ncols=5)\n",
        "fig.set_size_inches(36, 36)\n",
        "ax = axes.flatten()\n",
        "\n",
        "i=0\n",
        "for network in networks_by_year:\n",
        "  d = dict(networks_by_year[network].degree)\n",
        "\n",
        "  pos = nx.spring_layout(networks_by_year[network])\n",
        "  weights = nx.get_edge_attributes(networks_by_year[network],'weight').values()\n",
        "  nx.draw(networks_by_year[network],ax=ax[i], nodelist=d.keys(), width=[weight for weight in weights], node_size=[v+2 * 100 for v in d.values()], with_labels=True,font_color='k',font_size=8)\n",
        "  ax[i].set_axis_off()\n",
        "  ax[i].set_title(network)\n",
        "  i+=1\n",
        "\n",
        "plt.savefig('nhl_networks_10-20.png')\n",
        "'''"
      ],
      "execution_count": null,
      "outputs": []
    },
    {
      "cell_type": "code",
      "metadata": {
        "id": "ANv7V1TuMFSG"
      },
      "source": [
        "'''\n",
        "plt.figure(figsize=(7,7))\n",
        " \n",
        "for network in networks_by_year: \n",
        "\n",
        "  d = dict(networks_by_year[network].degree)\n",
        "  weights = nx.get_edge_attributes(networks_by_year[network],'weight').values()\n",
        "\n",
        "  nx.draw(networks_by_year[network], nodelist=d.keys(), width=[weight for weight in weights], node_size=[v+2 * 100 for v in d.values()], with_labels=True,font_color='k',font_size=8)\n",
        "plt.show()\n",
        "'''"
      ],
      "execution_count": null,
      "outputs": []
    },
    {
      "cell_type": "code",
      "metadata": {
        "id": "XLvphh6xDtry"
      },
      "source": [
        "'''\n",
        "\n",
        "import math\n",
        "i,j=0,0\n",
        "PLOTS_PER_ROW = 5\n",
        "fig, axs = plt.subplots(4,5, figsize=(20, 60))\n",
        "for network in networks_by_year: \n",
        "    axs[i][j].scatter(df['target_col'], df[col], s=3)\n",
        "    axs[i][j].set_ylabel(network)\n",
        "    j+=1\n",
        "    if j%PLOTS_PER_ROW==0:\n",
        "        i+=1\n",
        "        j=0\n",
        "plt.show()\n",
        "'''"
      ],
      "execution_count": null,
      "outputs": []
    },
    {
      "cell_type": "code",
      "metadata": {
        "id": "ddjHjm3B6945"
      },
      "source": [
        "'''\n",
        "\n",
        "import nx_altair as nxa\n",
        "import altair as alt\n",
        "%matplotlib inline\n",
        "import numpy as np\n",
        "\n",
        "pos = nx.spring_layout(G)\n",
        "\n",
        "\n",
        "east=[\n",
        "\"Bruins\",\t\"Hurricanes\",\n",
        "\"Sabres\", \"BlueJackets\"\n",
        "\"RedWings\", \"Devils\",\n",
        "\"Panthers\", \"Islanders\",\n",
        "\"Canadiens\", \"Rangers\",\n",
        "\"Senators\",\t \"Flyers\",\n",
        "\"Lightning\",\t \"Penguins\",\n",
        "\"MapleLeafs\",\t \"Capitals\"]\n",
        "\n",
        "# Add attributes to each node.\n",
        "for n in G.nodes():\n",
        "    G.nodes[n]['weight'] = np.random.randn()\n",
        "    G.nodes[n]['name'] = np.random.randint(1000)\n",
        "    if n in east:\n",
        "      G.nodes[n]['conference'] = 'East'\n",
        "    else:\n",
        "      G.nodes[n]['conference'] = 'West'\n",
        "    \n",
        "\n",
        "# Add attributes to edge.    \n",
        "for e in G.edges():\n",
        "    G.edges[(e[0],e[1])]['weight'] = np.random.uniform(1, 10)\n",
        "\n",
        "chart = nxa.draw_networkx(\n",
        "    G=G,\n",
        "    pos=pos,\n",
        "    node_size=200,\n",
        "    node_color='conference',\n",
        "    cmap='viridis',\n",
        "    width='weight',\n",
        "    node_tooltip=['weight', 'name', 'conference']\n",
        ")\n",
        "\n",
        "# Get the node layer\n",
        "edges = chart.layer[0]\n",
        "nodes = chart.layer[1]\n",
        "\n",
        "# Build a brush\n",
        "brush = alt.selection_interval(encodings=['x', 'y'])\n",
        "color = alt.Color('conference:N',  legend=None)\n",
        "\n",
        "# Condition nodes based on brush\n",
        "nodes = nodes.encode(\n",
        "    fill=alt.condition(brush, color, alt.value('gray')),\n",
        ").add_selection(\n",
        "    brush\n",
        ")\n",
        "\n",
        "# Create a bar graph to show highlighted nodes.\n",
        "bars = alt.Chart(nodes.data).mark_bar().encode(\n",
        "    x=alt.X('count()', scale=alt.Scale(domain=(0,20))),\n",
        "    y='conference',\n",
        "    color='conference',\n",
        ").transform_filter(\n",
        "    brush\n",
        ")\n",
        "\n",
        "alt.vconcat(edges+nodes, bars)\n",
        "'''"
      ],
      "execution_count": null,
      "outputs": []
    },
    {
      "cell_type": "markdown",
      "metadata": {
        "id": "twSdh6eOYNuq"
      },
      "source": [
        "# Build Attributes"
      ]
    },
    {
      "cell_type": "code",
      "metadata": {
        "colab": {
          "base_uri": "https://localhost:8080/"
        },
        "id": "N9ez080rKOpd",
        "outputId": "948466b6-a105-4574-f259-10a2c60983a1"
      },
      "source": [
        "networks_by_year"
      ],
      "execution_count": null,
      "outputs": [
        {
          "output_type": "execute_result",
          "data": {
            "text/plain": [
              "{'2000 - 2001': <networkx.classes.graph.Graph at 0x7f337dc22f90>,\n",
              " '2001 - 2002': <networkx.classes.graph.Graph at 0x7f337dd97690>,\n",
              " '2002 - 2003': <networkx.classes.graph.Graph at 0x7f337dd97090>,\n",
              " '2003 - 2004': <networkx.classes.graph.Graph at 0x7f337dd97110>,\n",
              " '2004 - 2005': <networkx.classes.graph.Graph at 0x7f337dd97890>,\n",
              " '2005 - 2006': <networkx.classes.graph.Graph at 0x7f337dd97590>,\n",
              " '2006 - 2007': <networkx.classes.graph.Graph at 0x7f337dd97990>,\n",
              " '2007 - 2008': <networkx.classes.graph.Graph at 0x7f337dd97a50>,\n",
              " '2008 - 2009': <networkx.classes.graph.Graph at 0x7f337dd97910>,\n",
              " '2009 - 2010': <networkx.classes.graph.Graph at 0x7f337dd97350>}"
            ]
          },
          "metadata": {
            "tags": []
          },
          "execution_count": 9
        }
      ]
    },
    {
      "cell_type": "code",
      "metadata": {
        "id": "mMjCu44ykY9x"
      },
      "source": [
        "#Conference, Division, and Division Color Group\n",
        "\n",
        "\n",
        "atlantic = [\"Rangers\", \"Flyers\", \"Devils\", \"Islanders\", \"Penguins\"]\n",
        "northeast = [\"Bruins\", \"Sabres\", \"Canadiens\", \"Senators\", \"MapleLeafs\"]\n",
        "southeast = [\"Hurricanes\" ,\"Jets\", \"Panthers\", \"Lightning\", \"Capitals\"]\n",
        "central = [\"Blackhawks\", \"BlueJackets\", \"RedWings\", \"Predators\", \"Blues\"]\n",
        "northwest = [\"Flames\", \"Avalanche\", \"Oilers\", \"Wild\", \"Canucks\"]\n",
        "pacific = [\"Sharks\", \"Kings\", \"Coyotes\", \"Stars\", \"Ducks\"]\n",
        "# Add attributes to each node.\n",
        "for year in networks_by_year:\n",
        "  for n in networks_by_year[year].nodes():\n",
        "      if n in atlantic:\n",
        "        networks_by_year[year].nodes[n]['conference'] = 'East'\n",
        "        networks_by_year[year].nodes[n]['division'] = 'Atlantic'\n",
        "        networks_by_year[year].nodes[n]['color_group'] = 1\n",
        "      elif n in northeast:\n",
        "        networks_by_year[year].nodes[n]['conference'] = 'East'\n",
        "        networks_by_year[year].nodes[n]['division'] = 'Northeast'\n",
        "        networks_by_year[year].nodes[n]['color_group'] = 2\n",
        "      elif n in southeast:\n",
        "        networks_by_year[year].nodes[n]['conference'] = 'East'\n",
        "        networks_by_year[year].nodes[n]['division'] = 'Southeast'\n",
        "        networks_by_year[year].nodes[n]['color_group'] = 3\n",
        "      elif n in central:\n",
        "        networks_by_year[year].nodes[n]['conference'] = 'West'\n",
        "        networks_by_year[year].nodes[n]['division'] = 'Central'\n",
        "        networks_by_year[year].nodes[n]['color_group'] = 4\n",
        "      elif n in northwest:\n",
        "        networks_by_year[year].nodes[n]['conference'] = 'West'\n",
        "        networks_by_year[year].nodes[n]['division'] = 'Northwest'\n",
        "        networks_by_year[year].nodes[n]['color_group'] = 5\n",
        "      elif n in pacific:\n",
        "        networks_by_year[year].nodes[n]['conference'] = 'West'\n",
        "        networks_by_year[year].nodes[n]['division'] = 'Pacific'\n",
        "        networks_by_year[year].nodes[n]['color_group'] = 6\n"
      ],
      "execution_count": null,
      "outputs": []
    },
    {
      "cell_type": "code",
      "metadata": {
        "id": "4yjvnMlEYjZC"
      },
      "source": [
        "#PageRank, B/T Centrality, Degree, Neighbor Degree\n",
        "\n",
        "for year in networks_by_year:\n",
        "  page_rank_dict = nx.pagerank(networks_by_year[year])\n",
        "  betweenness = nx.betweenness_centrality(networks_by_year[year])\n",
        "  neighbors_degree = nx.average_neighbor_degree(networks_by_year[year])\n",
        "  for n in networks_by_year[year].nodes():\n",
        "    networks_by_year[year].nodes[n]['page_rank'] = float(np.round(page_rank_dict[n], 3))\n",
        "    networks_by_year[year].nodes[n]['betweenness'] = float(np.round(betweenness[n], 3))\n",
        "    networks_by_year[year].nodes[n]['degree'] = float(np.round(networks_by_year[year].degree(n), 3))\n",
        "    networks_by_year[year].nodes[n]['neighbor_degree'] = float(np.round(neighbors_degree[n], 3))"
      ],
      "execution_count": null,
      "outputs": []
    },
    {
      "cell_type": "code",
      "metadata": {
        "colab": {
          "base_uri": "https://localhost:8080/"
        },
        "id": "C1alCi39fym9",
        "outputId": "c9a2a369-dafc-48a7-c774-549fab24a58a"
      },
      "source": [
        "networks_by_year['2000 - 2001']['Rangers']"
      ],
      "execution_count": null,
      "outputs": [
        {
          "output_type": "execute_result",
          "data": {
            "text/plain": [
              "AtlasView({'Blackhawks': {'weight': 1}, 'Hurricanes': {'weight': 1}, 'Predators': {'weight': 2}, 'BlueJackets': {'weight': 1}, 'Avalanche': {'weight': 1}, 'Stars': {'weight': 1}, 'Blues': {'weight': 1}, 'Flames': {'weight': 2}, 'Wild': {'weight': 1}, 'Sharks': {'weight': 2}, 'Senators': {'weight': 1}, 'Panthers': {'weight': 1}, 'Lightning': {'weight': 1}})"
            ]
          },
          "metadata": {
            "tags": []
          },
          "execution_count": 12
        }
      ]
    },
    {
      "cell_type": "code",
      "metadata": {
        "colab": {
          "base_uri": "https://localhost:8080/"
        },
        "id": "DdqNBioRbo74",
        "outputId": "c27c88c2-17db-47e9-e183-666ab612576e"
      },
      "source": [
        "networks_by_year['2000 - 2001'].nodes['Bruins']"
      ],
      "execution_count": null,
      "outputs": [
        {
          "output_type": "execute_result",
          "data": {
            "text/plain": [
              "{'betweenness': 0.014,\n",
              " 'color_group': 2,\n",
              " 'conference': 'East',\n",
              " 'degree': 5.0,\n",
              " 'division': 'Northeast',\n",
              " 'neighbor_degree': 8.2,\n",
              " 'net_players': -4,\n",
              " 'page_rank': 0.028}"
            ]
          },
          "metadata": {
            "tags": []
          },
          "execution_count": 13
        }
      ]
    },
    {
      "cell_type": "code",
      "metadata": {
        "id": "hgVMJdVsa595"
      },
      "source": [
        "import statistics\n",
        "from scipy import stats\n",
        "\n",
        "\n",
        "trade_sds = []\n",
        "\n",
        "#Favorite Partner, Trades (Players In and Out), Strategy\n",
        "for year in networks_by_year:\n",
        "  for n in networks_by_year[year].nodes():\n",
        "    neighbors = networks_by_year[year].neighbors(n)\n",
        "    max_weight = 0\n",
        "    favorite_partner = \"\"\n",
        "    #same conference same division\n",
        "    #same conference different division\n",
        "    #different conference\n",
        "    scsd = 0\n",
        "    scdd = 0\n",
        "    dc = 0\n",
        "    for i in neighbors:\n",
        "      weight = networks_by_year[year].edges[n,i]['weight']\n",
        "      if networks_by_year[year].nodes[n]['conference'] != networks_by_year[year].nodes[i]['conference']:\n",
        "        dc += weight\n",
        "      elif networks_by_year[year].nodes[n]['conference'] == networks_by_year[year].nodes[i]['conference'] and networks_by_year[year].nodes[n]['division'] == networks_by_year[year].nodes[i]['division']:\n",
        "        scsd += weight\n",
        "      elif networks_by_year[year].nodes[n]['conference'] == networks_by_year[year].nodes[i]['conference'] and networks_by_year[year].nodes[n]['division'] != networks_by_year[year].nodes[i]['division']:\n",
        "        scdd += weight\n",
        "      if weight > max_weight:\n",
        "        favorite_partner = i\n",
        "        max_weight = weight\n",
        "    networks_by_year[year].nodes[n]['favorite_partner'] = favorite_partner\n",
        "    networks_by_year[year].nodes[n]['favorite_partner_weight'] = max_weight\n",
        "    networks_by_year[year].nodes[n]['scsd'] = scsd\n",
        "    networks_by_year[year].nodes[n]['scdd'] = scdd\n",
        "    networks_by_year[year].nodes[n]['dc'] = dc\n",
        "    #classify the strategy\n",
        "    #standard deviation of types of trades < 1.5 is a balanced strategy. Otherwise the strategy is based on the weight of trades to each area of the league\n",
        "    trades = [scsd, scdd, dc]\n",
        "    std_dev = statistics.stdev(trades)\n",
        "    net_players = networks_by_year[year].nodes[n]['net_players']\n",
        "    if std_dev < 1.5:\n",
        "      if net_players > 1:\n",
        "        networks_by_year[year].nodes[n]['strategy'] = 'Unbiased Buyer'\n",
        "      elif net_players < -1:\n",
        "        networks_by_year[year].nodes[n]['strategy'] = 'Unbiased Seller'\n",
        "      else:\n",
        "        networks_by_year[year].nodes[n]['strategy'] = 'Balanced'\n",
        "    else:\n",
        "      if scsd > scdd and scsd > dc:\n",
        "        if net_players > 1:\n",
        "          networks_by_year[year].nodes[n]['strategy'] = 'Local Buyer'\n",
        "        elif net_players < -1:\n",
        "          networks_by_year[year].nodes[n]['strategy'] = 'Local Seller'\n",
        "        else:\n",
        "          networks_by_year[year].nodes[n]['strategy'] = 'Locally Balanced'\n",
        "      elif scdd > scsd and scdd > dc:\n",
        "        if net_players > 1:\n",
        "          networks_by_year[year].nodes[n]['strategy'] = 'Regional Buyer'\n",
        "        elif net_players < -1:\n",
        "          networks_by_year[year].nodes[n]['strategy'] = 'Regional Seller'\n",
        "        else:\n",
        "          networks_by_year[year].nodes[n]['strategy'] = 'Regionally Balanced'\n",
        "      elif dc > scdd and dc > scsd:\n",
        "        if net_players > 1:\n",
        "          networks_by_year[year].nodes[n]['strategy'] = 'National Buyer'\n",
        "        elif net_players < -1:\n",
        "          networks_by_year[year].nodes[n]['strategy'] = 'National Seller'\n",
        "        else:\n",
        "          networks_by_year[year].nodes[n]['strategy'] = 'Nationally Balanced'\n",
        "      else:\n",
        "        networks_by_year[year].nodes[n]['strategy'] = 'Strategy Not Determined'"
      ],
      "execution_count": null,
      "outputs": []
    },
    {
      "cell_type": "markdown",
      "metadata": {
        "id": "rhY-EvpceC4S"
      },
      "source": [
        "# Make JSON"
      ]
    },
    {
      "cell_type": "code",
      "metadata": {
        "id": "i-tLI8IpKI5t"
      },
      "source": [
        "#JSON Format for D3\n",
        "from networkx.readwrite import json_graph\n",
        "import json\n",
        "\n",
        "for year in networks_by_year:\n",
        "  data = json_graph.node_link_data(networks_by_year[year])\n",
        "  with open(f\"data_{year}.json\", 'w') as fp:\n",
        "    json.dump(data, fp)\n"
      ],
      "execution_count": null,
      "outputs": []
    },
    {
      "cell_type": "code",
      "metadata": {
        "id": "xR-JnCW0LHnM"
      },
      "source": [
        "with open('data.json', 'w') as fp:\n",
        "    json.dump(data, fp)"
      ],
      "execution_count": null,
      "outputs": []
    },
    {
      "cell_type": "markdown",
      "metadata": {
        "id": "L-WXmwdHeNSV"
      },
      "source": [
        "\n",
        "\n",
        "# Analyze"
      ]
    },
    {
      "cell_type": "code",
      "metadata": {
        "id": "mL7LeO4xeTzp"
      },
      "source": [
        "filenames =['NHL_Team_Stats_00-10 - 00-01.csv',\n",
        "            'NHL_Team_Stats_00-10 - 01-02.csv',\n",
        "            'NHL_Team_Stats_00-10 - 02-03.csv',\n",
        "            'NHL_Team_Stats_00-10 - 03-04.csv',\n",
        "            'NHL_Team_Stats_00-10 - 05-06.csv',\n",
        "            'NHL_Team_Stats_00-10 - 06-07.csv',\n",
        "            'NHL_Team_Stats_00-10 - 07-08.csv',\n",
        "            'NHL_Team_Stats_00-10 - 08-09.csv',\n",
        "            'NHL_Team_Stats_00-10 - 09-10.csv',\n",
        "            ]\n",
        "\n",
        "stats_dfs = []\n",
        "for filename in filenames:\n",
        "  stats = pd.read_csv(filename)\n",
        "  stats_dfs.append(stats)"
      ],
      "execution_count": null,
      "outputs": []
    },
    {
      "cell_type": "code",
      "metadata": {
        "id": "pJqZEcsfnyJ-"
      },
      "source": [
        "import matplotlib.pyplot as plt\n",
        "\n",
        "team_names = networks_by_year['2000 - 2001'].nodes\n",
        "for df in stats_dfs:\n",
        "\n",
        "  for team in team_names:\n",
        "      df.loc[df['Unnamed: 0'].str.contains(team), 'Unnamed: 0'] = team\n",
        "\n",
        "\n",
        "  df.loc[df['Unnamed: 0'].str.contains('Detroit Red Wings'), 'Unnamed: 0'] = 'RedWings'\n",
        "  df.loc[df['Unnamed: 0'].str.contains('Toronto Maple Leafs'), 'Unnamed: 0'] = 'MapleLeafs'\n",
        "  df.loc[df['Unnamed: 0'].str.contains('Columbus Blue Jackets'), 'Unnamed: 0'] = 'BlueJackets'\n",
        "  df.loc[df['Unnamed: 0'].str.contains('Atlanta Thrashers'), 'Unnamed: 0'] = 'Jets'\n",
        "  df.loc[df['Unnamed: 0'].str.contains('Mighty Ducks'), 'Unnamed: 0'] = 'Ducks'"
      ],
      "execution_count": null,
      "outputs": []
    },
    {
      "cell_type": "code",
      "metadata": {
        "colab": {
          "base_uri": "https://localhost:8080/",
          "height": 118
        },
        "id": "W6igiIKzObgn",
        "outputId": "47ce0ca9-f92e-47ee-ebba-54dea739b353"
      },
      "source": [
        "stats_dfs[0].sample()"
      ],
      "execution_count": null,
      "outputs": [
        {
          "output_type": "execute_result",
          "data": {
            "text/html": [
              "<div>\n",
              "<style scoped>\n",
              "    .dataframe tbody tr th:only-of-type {\n",
              "        vertical-align: middle;\n",
              "    }\n",
              "\n",
              "    .dataframe tbody tr th {\n",
              "        vertical-align: top;\n",
              "    }\n",
              "\n",
              "    .dataframe thead th {\n",
              "        text-align: right;\n",
              "    }\n",
              "</style>\n",
              "<table border=\"1\" class=\"dataframe\">\n",
              "  <thead>\n",
              "    <tr style=\"text-align: right;\">\n",
              "      <th></th>\n",
              "      <th>Unnamed: 0</th>\n",
              "      <th>Rk</th>\n",
              "      <th>Conf Champ</th>\n",
              "      <th>League Champ</th>\n",
              "      <th>AvAge</th>\n",
              "      <th>GP</th>\n",
              "      <th>W</th>\n",
              "      <th>L</th>\n",
              "      <th>T</th>\n",
              "      <th>OL</th>\n",
              "      <th>PTS</th>\n",
              "      <th>PTS%</th>\n",
              "      <th>GF</th>\n",
              "      <th>GA</th>\n",
              "      <th>SRS</th>\n",
              "      <th>SOS</th>\n",
              "      <th>GF/G</th>\n",
              "      <th>GA/G</th>\n",
              "      <th>PP</th>\n",
              "      <th>PPO</th>\n",
              "      <th>PP%</th>\n",
              "      <th>PPA</th>\n",
              "      <th>PPOA</th>\n",
              "      <th>PK%</th>\n",
              "      <th>SH</th>\n",
              "      <th>SHA</th>\n",
              "      <th>PIM/G</th>\n",
              "      <th>oPIM/G</th>\n",
              "      <th>S</th>\n",
              "      <th>S%</th>\n",
              "      <th>SA</th>\n",
              "      <th>SV%</th>\n",
              "      <th>SO</th>\n",
              "    </tr>\n",
              "  </thead>\n",
              "  <tbody>\n",
              "    <tr>\n",
              "      <th>20</th>\n",
              "      <td>Rangers</td>\n",
              "      <td>21.0</td>\n",
              "      <td>0.0</td>\n",
              "      <td>0.0</td>\n",
              "      <td>29.5</td>\n",
              "      <td>82</td>\n",
              "      <td>33</td>\n",
              "      <td>43</td>\n",
              "      <td>5</td>\n",
              "      <td>1</td>\n",
              "      <td>72</td>\n",
              "      <td>0.439</td>\n",
              "      <td>250</td>\n",
              "      <td>290</td>\n",
              "      <td>-0.53</td>\n",
              "      <td>-0.04</td>\n",
              "      <td>3.05</td>\n",
              "      <td>3.54</td>\n",
              "      <td>65</td>\n",
              "      <td>363</td>\n",
              "      <td>17.91</td>\n",
              "      <td>86</td>\n",
              "      <td>400</td>\n",
              "      <td>78.5</td>\n",
              "      <td>16</td>\n",
              "      <td>12</td>\n",
              "      <td>18.3</td>\n",
              "      <td>16.8</td>\n",
              "      <td>2345</td>\n",
              "      <td>10.7</td>\n",
              "      <td>2575</td>\n",
              "      <td>0.887</td>\n",
              "      <td>0</td>\n",
              "    </tr>\n",
              "  </tbody>\n",
              "</table>\n",
              "</div>"
            ],
            "text/plain": [
              "   Unnamed: 0    Rk  Conf Champ  League Champ  ...    S%    SA    SV%  SO\n",
              "20    Rangers  21.0         0.0           0.0  ...  10.7  2575  0.887   0\n",
              "\n",
              "[1 rows x 33 columns]"
            ]
          },
          "metadata": {
            "tags": []
          },
          "execution_count": 120
        }
      ]
    },
    {
      "cell_type": "code",
      "metadata": {
        "id": "aepsd1NLogD0",
        "colab": {
          "base_uri": "https://localhost:8080/"
        },
        "outputId": "9d7053fb-cd11-443b-b04a-ed9c60ddd0da"
      },
      "source": [
        "strategies = []\n",
        "buyer_seller = []\n",
        "ranking = []\n",
        "pts = []\n",
        "num_partners = []\n",
        "regions = []\n",
        "players = []\n",
        "ages = []\n",
        "\n",
        "winner_ages = []\n",
        "winner_players = []\n",
        "winner_regions = []\n",
        "winner_strategies = []\n",
        "winner_partners = []\n",
        "winner_buyer_seller = []\n",
        "\n",
        "page_ranks = []\n",
        "betweennesses = []\n",
        "winner_page_ranks = []\n",
        "winner_bts = []\n",
        "\n",
        "pks = []\n",
        "pps = []\n",
        "winner_pks = []\n",
        "winner_pps = []\n",
        "\n",
        "\n",
        "i=0\n",
        "for network in networks_by_year:\n",
        "  if network == '2004 - 2005':\n",
        "    print('skipped the lockout year')\n",
        "    continue\n",
        "  for team in list(networks_by_year[network].nodes):\n",
        "\n",
        "\n",
        "    rank = stats_dfs[i].loc[stats_dfs[i]['Unnamed: 0'].str.contains(team)].Rk\n",
        "    champ = int(stats_dfs[i].loc[stats_dfs[i]['Unnamed: 0'].str.contains(team)]['Conf Champ'])\n",
        "    pk = float(stats_dfs[i].loc[stats_dfs[i]['Unnamed: 0'].str.contains(team)]['PK%'])\n",
        "    pp = float(stats_dfs[i].loc[stats_dfs[i]['Unnamed: 0'].str.contains(team)]['PP%'])\n",
        "    age = float(stats_dfs[i].loc[stats_dfs[i]['Unnamed: 0'].str.contains(team)]['AvAge'])\n",
        "    try:\n",
        "      ranking.append(int(rank))\n",
        "      pks.append(pk)\n",
        "      pps.append(pp)\n",
        "      pts.append(float(stats_dfs[i].loc[stats_dfs[i]['Unnamed: 0'].str.contains(team)]['PTS%']))\n",
        "      ages.append(age)\n",
        "    except:\n",
        "      print(f\"{team} not found in rankings\")\n",
        "    \n",
        "    try:\n",
        "      strategy = str(networks_by_year[network].nodes[team]['strategy'])\n",
        "      strategies.append(strategy)\n",
        "      if 'Buyer' in strategy:\n",
        "        buyer = 'Buyer'\n",
        "        buyer_seller.append(buyer)\n",
        "      elif 'Seller' in strategy:\n",
        "        buyer = 'Seller'\n",
        "        buyer_seller.append(buyer)\n",
        "      else:\n",
        "        buyer = 'No Preference'\n",
        "        buyer_seller.append(buyer)\n",
        "\n",
        "      if 'National' in strategy:\n",
        "        region = 'National'\n",
        "        regions.append(region)\n",
        "      elif 'Regional' in strategy:\n",
        "        region = 'Regional'\n",
        "        regions.append(region)\n",
        "      elif 'Local' in strategy:\n",
        "        region = 'Local'\n",
        "        regions.append(region)\n",
        "      else:\n",
        "        region = 'No Preference'\n",
        "        regions.append(region)\n",
        "\n",
        "      num_partners.append(networks_by_year[network].nodes[team]['degree'])\n",
        "      page_ranks.append(networks_by_year[network].nodes[team]['page_rank'])\n",
        "      betweennesses.append(networks_by_year[network].nodes[team]['betweenness'])\n",
        "      players.append(networks_by_year[network].nodes[team]['net_players'])\n",
        "\n",
        "      if champ == 1:\n",
        "        winner_strategies.append(networks_by_year[network].nodes[team]['strategy'])\n",
        "        winner_regions.append(region)\n",
        "        winner_partners.append(networks_by_year[network].nodes[team]['degree'])\n",
        "        winner_buyer_seller.append(buyer)\n",
        "        winner_page_ranks.append(networks_by_year[network].nodes[team]['page_rank'])\n",
        "        winner_bts.append(networks_by_year[network].nodes[team]['betweenness'])\n",
        "        winner_pks.append(pk)\n",
        "        winner_pps.append(pp)\n",
        "        winner_players.append(networks_by_year[network].nodes[team]['net_players'])\n",
        "        winner_ages.append(age)\n",
        "    except:\n",
        "      print(f\"{team} not found in {network} network\")\n",
        "\n",
        "  i += 1"
      ],
      "execution_count": 303,
      "outputs": [
        {
          "output_type": "stream",
          "text": [
            "skipped the lockout year\n"
          ],
          "name": "stdout"
        }
      ]
    },
    {
      "cell_type": "code",
      "metadata": {
        "colab": {
          "base_uri": "https://localhost:8080/"
        },
        "id": "KUgf4q4FsBnU",
        "outputId": "b8c02dbc-c374-4431-9946-a91d1e31756b"
      },
      "source": [
        "len(strategies) == len(ranking) == len(pts) == len(num_partners) == len(buyer_seller)"
      ],
      "execution_count": null,
      "outputs": [
        {
          "output_type": "execute_result",
          "data": {
            "text/plain": [
              "True"
            ]
          },
          "metadata": {
            "tags": []
          },
          "execution_count": 88
        }
      ]
    },
    {
      "cell_type": "code",
      "metadata": {
        "colab": {
          "base_uri": "https://localhost:8080/"
        },
        "id": "vgJnBpTGTEzP",
        "outputId": "2bca4940-830a-453c-b6e2-d5ee701bda12"
      },
      "source": [
        "len(winner_partners) == len(winner_regions) == len(winner_strategies)"
      ],
      "execution_count": null,
      "outputs": [
        {
          "output_type": "execute_result",
          "data": {
            "text/plain": [
              "True"
            ]
          },
          "metadata": {
            "tags": []
          },
          "execution_count": 123
        }
      ]
    },
    {
      "cell_type": "code",
      "metadata": {
        "colab": {
          "base_uri": "https://localhost:8080/",
          "height": 73
        },
        "id": "3jQ_u9m5qvWH",
        "outputId": "74fbb51c-17d4-4780-e910-b281dfd941ac"
      },
      "source": [
        "'''\n",
        "colors = {\n",
        "    'National Buyer':,\n",
        "    'National Seller':,\n",
        "    'Nationally Balanced':,\n",
        "    'Regional Buyer':,\n",
        "    'Regional Seller':,\n",
        "    'Regionally Balanced':,\n",
        "    'Local Buyer':,\n",
        "    'Local Seller':,\n",
        "    'Locally Balanced':,\n",
        "    'Unbiased Buyer':,\n",
        "    'Unbiased Seller':,\n",
        "    'Balanced':\n",
        "}\n",
        "'''"
      ],
      "execution_count": null,
      "outputs": [
        {
          "output_type": "execute_result",
          "data": {
            "application/vnd.google.colaboratory.intrinsic+json": {
              "type": "string"
            },
            "text/plain": [
              "\"\\ncolors = {\\n    'National Buyer':,\\n    'National Seller':,\\n    'Nationally Balanced':,\\n    'Regional Buyer':,\\n    'Regional Seller':,\\n    'Regionally Balanced':,\\n    'Local Buyer':,\\n    'Local Seller':,\\n    'Locally Balanced':,\\n    'Unbiased Buyer':,\\n    'Unbiased Seller':,\\n    'Balanced':\\n}\\n\""
            ]
          },
          "metadata": {
            "tags": []
          },
          "execution_count": 55
        }
      ]
    },
    {
      "cell_type": "code",
      "metadata": {
        "id": "2cg70yDDLF_h"
      },
      "source": [
        "cmaps = [('Perceptually Uniform Sequential', [\n",
        "            'viridis', 'plasma', 'inferno', 'magma', 'cividis']),\n",
        "         ('Sequential', [\n",
        "            'Greys', 'Purples', 'Blues', 'Greens', 'Oranges', 'Reds',\n",
        "            'YlOrBr', 'YlOrRd', 'OrRd', 'PuRd', 'RdPu', 'BuPu',\n",
        "            'GnBu', 'PuBu', 'YlGnBu', 'PuBuGn', 'BuGn', 'YlGn']),\n",
        "         ('Sequential (2)', [\n",
        "            'binary', 'gist_yarg', 'gist_gray', 'gray', 'bone', 'pink',\n",
        "            'spring', 'summer', 'autumn', 'winter', 'cool', 'Wistia',\n",
        "            'hot', 'afmhot', 'gist_heat', 'copper']),\n",
        "         ('Diverging', [\n",
        "            'PiYG', 'PRGn', 'BrBG', 'PuOr', 'RdGy', 'RdBu',\n",
        "            'RdYlBu', 'RdYlGn', 'Spectral', 'coolwarm', 'bwr', 'seismic']),\n",
        "         ('Cyclic', ['twilight', 'twilight_shifted', 'hsv']),\n",
        "         ('Qualitative', [\n",
        "            'Pastel1', 'Pastel2', 'Paired', 'Accent',\n",
        "            'Dark2', 'Set1', 'Set2', 'Set3',\n",
        "            'tab10', 'tab20', 'tab20b', 'tab20c']),\n",
        "         ('Miscellaneous', [\n",
        "            'flag', 'prism', 'ocean', 'gist_earth', 'terrain', 'gist_stern',\n",
        "            'gnuplot', 'gnuplot2', 'CMRmap', 'cubehelix', 'brg',\n",
        "            'gist_rainbow', 'rainbow', 'jet', 'turbo', 'nipy_spectral',\n",
        "            'gist_ncar'])]"
      ],
      "execution_count": null,
      "outputs": []
    },
    {
      "cell_type": "code",
      "metadata": {
        "colab": {
          "base_uri": "https://localhost:8080/",
          "height": 515
        },
        "id": "XHXXbB63rVE4",
        "outputId": "20ebc176-93de-4d4d-9c18-a46974a05e6d"
      },
      "source": [
        "import seaborn as sns\n",
        "\n",
        "plt.figure(figsize=(8,8))\n",
        "sns.set_palette(\"Set2\", 8)\n",
        "sns.scatterplot(x=ages, y=ranking, alpha=.7, hue=regions)\n",
        "plt.xlabel(\"Average Age\")\n",
        "plt.ylabel(\"Ranking (Lower is Better)\")\n",
        "plt.legend(bbox_to_anchor=(1.05, 1), loc=2, borderaxespad=0.)"
      ],
      "execution_count": 320,
      "outputs": [
        {
          "output_type": "execute_result",
          "data": {
            "text/plain": [
              "<matplotlib.legend.Legend at 0x7f336464cbd0>"
            ]
          },
          "metadata": {
            "tags": []
          },
          "execution_count": 320
        },
        {
          "output_type": "display_data",
          "data": {
            "image/png": "[encoded data removed]",
            "text/plain": [
              "<Figure size 576x576 with 1 Axes>"
            ]
          },
          "metadata": {
            "tags": [],
            "needs_background": "light"
          }
        }
      ]
    },
    {
      "cell_type": "code",
      "metadata": {
        "colab": {
          "base_uri": "https://localhost:8080/",
          "height": 534
        },
        "id": "1ruiEvfmtctk",
        "outputId": "9bc012ad-c379-4407-fd5b-00dd919def4c"
      },
      "source": [
        "import seaborn as sns\n",
        "\n",
        "plt.figure(figsize=(8,8))\n",
        "sns.set_palette(\"Set2\", 8)\n",
        "sns.regplot(x=ages, y=ranking, color='b')\n",
        "plt.xlabel(\"Average Age\")\n",
        "plt.ylabel(\"Ranking (Lower is Better)\")\n",
        "plt.legend(bbox_to_anchor=(1.05, 1), loc=2, borderaxespad=0.)"
      ],
      "execution_count": 313,
      "outputs": [
        {
          "output_type": "stream",
          "text": [
            "No handles with labels found to put in legend.\n"
          ],
          "name": "stderr"
        },
        {
          "output_type": "execute_result",
          "data": {
            "text/plain": [
              "<matplotlib.legend.Legend at 0x7f3364a9e650>"
            ]
          },
          "metadata": {
            "tags": []
          },
          "execution_count": 313
        },
        {
          "output_type": "display_data",
          "data": {
            "image/png": "[encoded data removed]",
            "text/plain": [
              "<Figure size 576x576 with 1 Axes>"
            ]
          },
          "metadata": {
            "tags": [],
            "needs_background": "light"
          }
        }
      ]
    },
    {
      "cell_type": "code",
      "metadata": {
        "id": "fBMVHhekzDlF",
        "colab": {
          "base_uri": "https://localhost:8080/",
          "height": 617
        },
        "outputId": "2cc9aacf-e67c-473e-850c-93032af2cde0"
      },
      "source": [
        "?plt.figure(figsize=(8,8))\n",
        "plt.xticks(rotation = 45)\n",
        "plt.ylabel('Number of Teams')\n",
        "plt.xlabel('National, Regional, or No Pref')\n",
        "plt.hist(regions, edgecolor='white', bins=9, color='orange', alpha=.6)"
      ],
      "execution_count": null,
      "outputs": [
        {
          "output_type": "execute_result",
          "data": {
            "text/plain": [
              "(array([149.,   0.,   0.,   0.,  69.,   0.,   0.,   0.,  38.]),\n",
              " array([0.        , 0.22222222, 0.44444444, 0.66666667, 0.88888889,\n",
              "        1.11111111, 1.33333333, 1.55555556, 1.77777778, 2.        ]),\n",
              " <a list of 9 Patch objects>)"
            ]
          },
          "metadata": {
            "tags": []
          },
          "execution_count": 179
        },
        {
          "output_type": "display_data",
          "data": {
            "image/png": "[encoded data removed]",
            "text/plain": [
              "<Figure size 576x576 with 1 Axes>"
            ]
          },
          "metadata": {
            "tags": [],
            "needs_background": "light"
          }
        }
      ]
    },
    {
      "cell_type": "code",
      "metadata": {
        "colab": {
          "base_uri": "https://localhost:8080/",
          "height": 515
        },
        "id": "rDHtDDQQTKv8",
        "outputId": "c657b11c-a29b-4ea1-e587-ff2bac451cf6"
      },
      "source": [
        "plt.figure(figsize=(8,8))\n",
        "plt.ylabel('Net Players In/Out')\n",
        "plt.xlabel('Winning Teams vs All Teams')\n",
        "sns.boxplot(\n",
        "    data=[winner_ages, ages],\n",
        "    palette=[sns.xkcd_rgb[\"powder blue\"], sns.xkcd_rgb[\"light orange\"]],\n",
        "    showmeans=True,\n",
        "    fliersize=3\n",
        ")"
      ],
      "execution_count": 304,
      "outputs": [
        {
          "output_type": "execute_result",
          "data": {
            "text/plain": [
              "<matplotlib.axes._subplots.AxesSubplot at 0x7f33662f4e10>"
            ]
          },
          "metadata": {
            "tags": []
          },
          "execution_count": 304
        },
        {
          "output_type": "display_data",
          "data": {
            "image/png": "[encoded data removed]",
            "text/plain": [
              "<Figure size 576x576 with 1 Axes>"
            ]
          },
          "metadata": {
            "tags": [],
            "needs_background": "light"
          }
        }
      ]
    },
    {
      "cell_type": "code",
      "metadata": {
        "id": "43aZ5Jy_fIFc"
      },
      "source": [
        ""
      ],
      "execution_count": null,
      "outputs": []
    }
  ]
}