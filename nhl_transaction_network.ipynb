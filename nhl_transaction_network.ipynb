{
  "nbformat": 4,
  "nbformat_minor": 0,
  "metadata": {
    "colab": {
      "name": "nhl_transaction_network.ipynb",
      "provenance": [],
      "collapsed_sections": []
    },
    "kernelspec": {
      "name": "python3",
      "display_name": "Python 3"
    },
    "language_info": {
      "name": "python"
    }
  },
  "cells": [
    {
      "cell_type": "code",
      "metadata": {
        "id": "Vgdv93aXL1zp"
      },
      "source": [
        "from google.colab import files\n",
        "import pandas as pd\n",
        "import requests\n",
        "from bs4 import BeautifulSoup\n",
        "import csv\n",
        "import html5lib\n",
        "import time\n",
        "import networkx as nx\n",
        "import matplotlib.pyplot as plt\n",
        "import numpy as np\n",
        "\n",
        "#Read in all NHL transactions and filter for trades only\n",
        "df=pd.read_csv(\"Hockey_trades_final.csv\")"
      ],
      "execution_count": 1,
      "outputs": []
    },
    {
      "cell_type": "markdown",
      "metadata": {
        "id": "xtdbQSyEYTyx"
      },
      "source": [
        "# Build Networks"
      ]
    },
    {
      "cell_type": "code",
      "metadata": {
        "id": "r4ZzNemcL8SR"
      },
      "source": [
        "#Current NHL teams\n",
        "teams = {\"Ducks\":{},\n",
        "\"Coyotes\":{},\n",
        "\"Bruins\":{},\n",
        "\"Sabres\":{},\n",
        "\"Flames\":{},\n",
        "\"Hurricanes\":{},\n",
        "\"Blackhawks\":{},\n",
        "\"Avalanche\":{},\n",
        "\"BlueJackets\":{},\n",
        "\"Stars\":{},\n",
        "\"RedWings\":{},\n",
        "\"Oilers\":{},\n",
        "\"Panthers\":{},\n",
        "\"Kings\":{},\n",
        "\"Wild\":{},\n",
        "\"Canadiens\":{},\n",
        "\"Predators\":{},\n",
        "\"Devils\":{},\n",
        "\"Islanders\":{},\n",
        "\"Rangers\":{},\n",
        "\"Senators\":{},\n",
        "\"Flyers\":{},\n",
        "\"Penguins\":{},\n",
        "\"Sharks\":{},\n",
        "\"Blues\":{},\n",
        "\"Lightning\":{},\n",
        "\"MapleLeafs\":{},\n",
        "\"Canucks\":{},\n",
        "\"GoldenKnights\":{},\n",
        "\"Capitals\":{},\n",
        "\"Jets\":{},\n",
        "                }"
      ],
      "execution_count": 2,
      "outputs": []
    },
    {
      "cell_type": "code",
      "metadata": {
        "id": "fsq0J4vgzCJQ"
      },
      "source": [
        "#TODO\n",
        "#Fix space formating in column 4 xxxx\n",
        "#Fix data for teams that have moved or changed names xxx\n",
        "#Split the date columns xxxx\n",
        "#Variable for players sent/received xxxx"
      ],
      "execution_count": 3,
      "outputs": []
    },
    {
      "cell_type": "code",
      "metadata": {
        "id": "Rw0abwrWL-bW"
      },
      "source": [
        "#Build nested dictionary of teams and their trade partners\n",
        "\n",
        "network_dict = {}\n",
        "\n",
        "for index, row in df.iterrows():\n",
        "\n",
        "  #Figure out what season we're in\n",
        "  year = row['Year']\n",
        "  if row['Month'] < 7:\n",
        "    season = f\"{year-1} - {year}\"\n",
        "  else:\n",
        "    season = f\"{year} - {year + 1}\"\n",
        "  \n",
        "  #Loop through teams dictionary and starting finding team A and team B\n",
        "  a = row[\"Team A\"]\n",
        "  for team in teams.keys():\n",
        "    if team in row[\"Team B\"]:\n",
        "      b=team\n",
        "      \n",
        "      '''\n",
        "      if b==\"Senators\" or a==\"Senators\":\n",
        "        if year < 1992:\n",
        "          continue\n",
        "      '''\n",
        "\n",
        "      if a not in teams.keys():\n",
        "        continue\n",
        "\n",
        "      if season not in teams[a].keys():\n",
        "        teams[a][season]={}\n",
        "      \n",
        "      if season not in network_dict.keys():\n",
        "        network_dict[season] = {}\n",
        "\n",
        "      if a not in network_dict[season].keys():\n",
        "        network_dict[season][a] = {}\n",
        "\n",
        "      if b not in teams[a][season].keys():\n",
        "        teams[a][season][b] = 1\n",
        "      else:\n",
        "        teams[a][season][b] += 1\n",
        "\n",
        "      if b not in network_dict[season][a].keys():\n",
        "        network_dict[season][a][b] = 1\n",
        "      else:\n",
        "        network_dict[season][a][b] += 1\n",
        "\n",
        "\n",
        "#For some reason the csv indicated that a team had traded with itself. Remove these\n",
        "for team in teams:\n",
        "  if team in teams[team].keys():\n",
        "    teams[team].pop(team, None)\n",
        "\n"
      ],
      "execution_count": 4,
      "outputs": []
    },
    {
      "cell_type": "code",
      "metadata": {
        "id": "LwIrc8lsMDin"
      },
      "source": [
        "#Construct the graph\n",
        "#Edge weights correspond to number of transactions\n",
        "\n",
        "networks_by_year = {}\n",
        "year=2000\n",
        "for i in range(10):\n",
        "  season_string=f\"{year + i} - {year + 1 + i}\"\n",
        "\n",
        "  G = nx.Graph()\n",
        "\n",
        "  for team in teams.keys():\n",
        "    G.add_node(team)\n",
        "\n",
        "  for team_A in network_dict[season_string].keys():\n",
        "    for team_B in network_dict[season_string][team_A].keys():\n",
        "      G.add_edge(team_A, team_B, weight=network_dict[season_string][team_A][team_B])\n",
        "  G.remove_nodes_from(list(nx.isolates(G)))\n",
        "  networks_by_year[season_string] = G"
      ],
      "execution_count": 7,
      "outputs": []
    },
    {
      "cell_type": "markdown",
      "metadata": {
        "id": "bVfpWSEQYA0k"
      },
      "source": [
        "# Viz Scripts"
      ]
    },
    {
      "cell_type": "code",
      "metadata": {
        "id": "Ncv79eE6EgNS"
      },
      "source": [
        "'''\n",
        "fig, axes = plt.subplots(nrows=2, ncols=5)\n",
        "fig.set_size_inches(36, 36)\n",
        "ax = axes.flatten()\n",
        "\n",
        "i=0\n",
        "for network in networks_by_year:\n",
        "  d = dict(networks_by_year[network].degree)\n",
        "\n",
        "  pos = nx.spring_layout(networks_by_year[network])\n",
        "  weights = nx.get_edge_attributes(networks_by_year[network],'weight').values()\n",
        "  nx.draw(networks_by_year[network],ax=ax[i], nodelist=d.keys(), width=[weight for weight in weights], node_size=[v+2 * 100 for v in d.values()], with_labels=True,font_color='k',font_size=8)\n",
        "  ax[i].set_axis_off()\n",
        "  ax[i].set_title(network)\n",
        "  i+=1\n",
        "\n",
        "plt.savefig('nhl_networks_10-20.png')\n",
        "'''"
      ],
      "execution_count": null,
      "outputs": []
    },
    {
      "cell_type": "code",
      "metadata": {
        "id": "ANv7V1TuMFSG"
      },
      "source": [
        "'''\n",
        "plt.figure(figsize=(7,7))\n",
        " \n",
        "for network in networks_by_year: \n",
        "\n",
        "  d = dict(networks_by_year[network].degree)\n",
        "  weights = nx.get_edge_attributes(networks_by_year[network],'weight').values()\n",
        "\n",
        "  nx.draw(networks_by_year[network], nodelist=d.keys(), width=[weight for weight in weights], node_size=[v+2 * 100 for v in d.values()], with_labels=True,font_color='k',font_size=8)\n",
        "plt.show()\n",
        "'''"
      ],
      "execution_count": null,
      "outputs": []
    },
    {
      "cell_type": "code",
      "metadata": {
        "id": "XLvphh6xDtry"
      },
      "source": [
        "'''\n",
        "\n",
        "import math\n",
        "i,j=0,0\n",
        "PLOTS_PER_ROW = 5\n",
        "fig, axs = plt.subplots(4,5, figsize=(20, 60))\n",
        "for network in networks_by_year: \n",
        "    axs[i][j].scatter(df['target_col'], df[col], s=3)\n",
        "    axs[i][j].set_ylabel(network)\n",
        "    j+=1\n",
        "    if j%PLOTS_PER_ROW==0:\n",
        "        i+=1\n",
        "        j=0\n",
        "plt.show()\n",
        "'''"
      ],
      "execution_count": null,
      "outputs": []
    },
    {
      "cell_type": "code",
      "metadata": {
        "id": "ddjHjm3B6945"
      },
      "source": [
        "'''\n",
        "\n",
        "import nx_altair as nxa\n",
        "import altair as alt\n",
        "%matplotlib inline\n",
        "import numpy as np\n",
        "\n",
        "pos = nx.spring_layout(G)\n",
        "\n",
        "\n",
        "east=[\n",
        "\"Bruins\",\t\"Hurricanes\",\n",
        "\"Sabres\", \"BlueJackets\"\n",
        "\"RedWings\", \"Devils\",\n",
        "\"Panthers\", \"Islanders\",\n",
        "\"Canadiens\", \"Rangers\",\n",
        "\"Senators\",\t \"Flyers\",\n",
        "\"Lightning\",\t \"Penguins\",\n",
        "\"MapleLeafs\",\t \"Capitals\"]\n",
        "\n",
        "# Add attributes to each node.\n",
        "for n in G.nodes():\n",
        "    G.nodes[n]['weight'] = np.random.randn()\n",
        "    G.nodes[n]['name'] = np.random.randint(1000)\n",
        "    if n in east:\n",
        "      G.nodes[n]['conference'] = 'East'\n",
        "    else:\n",
        "      G.nodes[n]['conference'] = 'West'\n",
        "    \n",
        "\n",
        "# Add attributes to edge.    \n",
        "for e in G.edges():\n",
        "    G.edges[(e[0],e[1])]['weight'] = np.random.uniform(1, 10)\n",
        "\n",
        "chart = nxa.draw_networkx(\n",
        "    G=G,\n",
        "    pos=pos,\n",
        "    node_size=200,\n",
        "    node_color='conference',\n",
        "    cmap='viridis',\n",
        "    width='weight',\n",
        "    node_tooltip=['weight', 'name', 'conference']\n",
        ")\n",
        "\n",
        "# Get the node layer\n",
        "edges = chart.layer[0]\n",
        "nodes = chart.layer[1]\n",
        "\n",
        "# Build a brush\n",
        "brush = alt.selection_interval(encodings=['x', 'y'])\n",
        "color = alt.Color('conference:N',  legend=None)\n",
        "\n",
        "# Condition nodes based on brush\n",
        "nodes = nodes.encode(\n",
        "    fill=alt.condition(brush, color, alt.value('gray')),\n",
        ").add_selection(\n",
        "    brush\n",
        ")\n",
        "\n",
        "# Create a bar graph to show highlighted nodes.\n",
        "bars = alt.Chart(nodes.data).mark_bar().encode(\n",
        "    x=alt.X('count()', scale=alt.Scale(domain=(0,20))),\n",
        "    y='conference',\n",
        "    color='conference',\n",
        ").transform_filter(\n",
        "    brush\n",
        ")\n",
        "\n",
        "alt.vconcat(edges+nodes, bars)\n",
        "'''"
      ],
      "execution_count": null,
      "outputs": []
    },
    {
      "cell_type": "markdown",
      "metadata": {
        "id": "twSdh6eOYNuq"
      },
      "source": [
        "# Build Attributes"
      ]
    },
    {
      "cell_type": "code",
      "metadata": {
        "colab": {
          "base_uri": "https://localhost:8080/"
        },
        "id": "N9ez080rKOpd",
        "outputId": "8bbda9e1-62e9-4750-85d0-74508afa0a51"
      },
      "source": [
        "networks_by_year"
      ],
      "execution_count": 8,
      "outputs": [
        {
          "output_type": "execute_result",
          "data": {
            "text/plain": [
              "{'2000 - 2001': <networkx.classes.graph.Graph at 0x7eff6188a790>,\n",
              " '2001 - 2002': <networkx.classes.graph.Graph at 0x7eff50781110>,\n",
              " '2002 - 2003': <networkx.classes.graph.Graph at 0x7eff50788610>,\n",
              " '2003 - 2004': <networkx.classes.graph.Graph at 0x7eff5077ed50>,\n",
              " '2004 - 2005': <networkx.classes.graph.Graph at 0x7eff5077e8d0>,\n",
              " '2005 - 2006': <networkx.classes.graph.Graph at 0x7eff5077efd0>,\n",
              " '2006 - 2007': <networkx.classes.graph.Graph at 0x7eff5077ecd0>,\n",
              " '2007 - 2008': <networkx.classes.graph.Graph at 0x7eff5077eb90>,\n",
              " '2008 - 2009': <networkx.classes.graph.Graph at 0x7eff5077ee10>,\n",
              " '2009 - 2010': <networkx.classes.graph.Graph at 0x7eff5077ee50>}"
            ]
          },
          "metadata": {
            "tags": []
          },
          "execution_count": 8
        }
      ]
    },
    {
      "cell_type": "code",
      "metadata": {
        "id": "mMjCu44ykY9x"
      },
      "source": [
        "#Conference, Division, and Division Color Group\n",
        "\n",
        "\n",
        "atlantic = [\"Rangers\", \"Flyers\", \"Devils\", \"Islanders\", \"Penguins\"]\n",
        "northeast = [\"Bruins\", \"Sabres\", \"Canadiens\", \"Senators\", \"MapleLeafs\"]\n",
        "southeast = [\"Hurricanes\" ,\"Jets\", \"Panthers\", \"Lightning\", \"Capitals\"]\n",
        "central = [\"Blackhawks\", \"BlueJackets\", \"RedWings\", \"Predators\", \"Blues\"]\n",
        "northwest = [\"Flames\", \"Avalanche\", \"Oilers\", \"Wild\", \"Canucks\"]\n",
        "pacific = [\"Sharks\", \"Kings\", \"Coyotes\", \"Stars\", \"Ducks\"]\n",
        "# Add attributes to each node.\n",
        "for year in networks_by_year:\n",
        "  for n in networks_by_year[year].nodes():\n",
        "      if n in atlantic:\n",
        "        networks_by_year[year].nodes[n]['conference'] = 'East'\n",
        "        networks_by_year[year].nodes[n]['division'] = 'Atlantic'\n",
        "        networks_by_year[year].nodes[n]['color_group'] = 1\n",
        "      elif n in northeast:\n",
        "        networks_by_year[year].nodes[n]['conference'] = 'East'\n",
        "        networks_by_year[year].nodes[n]['division'] = 'Northeast'\n",
        "        networks_by_year[year].nodes[n]['color_group'] = 2\n",
        "      elif n in southeast:\n",
        "        networks_by_year[year].nodes[n]['conference'] = 'East'\n",
        "        networks_by_year[year].nodes[n]['division'] = 'Southeast'\n",
        "        networks_by_year[year].nodes[n]['color_group'] = 3\n",
        "      elif n in central:\n",
        "        networks_by_year[year].nodes[n]['conference'] = 'West'\n",
        "        networks_by_year[year].nodes[n]['division'] = 'Central'\n",
        "        networks_by_year[year].nodes[n]['color_group'] = 4\n",
        "      elif n in northwest:\n",
        "        networks_by_year[year].nodes[n]['conference'] = 'West'\n",
        "        networks_by_year[year].nodes[n]['division'] = 'Northwest'\n",
        "        networks_by_year[year].nodes[n]['color_group'] = 5\n",
        "      elif n in pacific:\n",
        "        networks_by_year[year].nodes[n]['conference'] = 'West'\n",
        "        networks_by_year[year].nodes[n]['division'] = 'Pacific'\n",
        "        networks_by_year[year].nodes[n]['color_group'] = 6\n"
      ],
      "execution_count": 30,
      "outputs": []
    },
    {
      "cell_type": "code",
      "metadata": {
        "id": "4yjvnMlEYjZC"
      },
      "source": [
        "#PageRank, B/T Centrality, Degree, Neighbor Degree\n",
        "\n",
        "for year in networks_by_year:\n",
        "  page_rank_dict = nx.pagerank(networks_by_year[year])\n",
        "  betweenness = nx.betweenness_centrality(networks_by_year[year])\n",
        "  neighbors_degree = nx.average_neighbor_degree(networks_by_year[year])\n",
        "  for n in networks_by_year[year].nodes():\n",
        "    networks_by_year[year].nodes[n]['page_rank'] = float(np.round(page_rank_dict[n], 3))\n",
        "    networks_by_year[year].nodes[n]['betweenness'] = float(np.round(betweenness[n], 3))\n",
        "    networks_by_year[year].nodes[n]['degree'] = float(np.round(networks_by_year[year].degree(n), 3))\n",
        "    networks_by_year[year].nodes[n]['neighbor_degree'] = float(np.round(neighbors_degree[n], 3))"
      ],
      "execution_count": 79,
      "outputs": []
    },
    {
      "cell_type": "code",
      "metadata": {
        "colab": {
          "base_uri": "https://localhost:8080/"
        },
        "id": "C1alCi39fym9",
        "outputId": "985bb6db-a7ec-47c1-f4d0-164f4a0b447f"
      },
      "source": [
        "networks_by_year['2000 - 2001']['Rangers']"
      ],
      "execution_count": 80,
      "outputs": [
        {
          "output_type": "execute_result",
          "data": {
            "text/plain": [
              "AtlasView({'Blackhawks': {'weight': 1}, 'Hurricanes': {'weight': 1}, 'Predators': {'weight': 2}, 'BlueJackets': {'weight': 1}, 'Avalanche': {'weight': 1}, 'Stars': {'weight': 1}, 'Blues': {'weight': 1}, 'Flames': {'weight': 2}, 'Wild': {'weight': 1}, 'Sharks': {'weight': 2}, 'Senators': {'weight': 1}, 'Panthers': {'weight': 1}, 'Lightning': {'weight': 1}})"
            ]
          },
          "metadata": {
            "tags": []
          },
          "execution_count": 80
        }
      ]
    },
    {
      "cell_type": "code",
      "metadata": {
        "colab": {
          "base_uri": "https://localhost:8080/"
        },
        "id": "DdqNBioRbo74",
        "outputId": "b0974f66-59e2-4e6d-f173-95fe402d942c"
      },
      "source": [
        "networks_by_year['2000 - 2001'].nodes['Bruins']"
      ],
      "execution_count": 81,
      "outputs": [
        {
          "output_type": "execute_result",
          "data": {
            "text/plain": [
              "{'betweenness': 0.014,\n",
              " 'color_group': 2,\n",
              " 'conference': 'East',\n",
              " 'dc': 3,\n",
              " 'degree': 5.0,\n",
              " 'division': 'Northeast',\n",
              " 'favorite_partner': 'Oilers',\n",
              " 'favorite_partner_weight': 2,\n",
              " 'neighbor_degree': 8.2,\n",
              " 'page_rank': 0.028,\n",
              " 'scdd': 2,\n",
              " 'scsd': 1,\n",
              " 'strategy': 'Balanced'}"
            ]
          },
          "metadata": {
            "tags": []
          },
          "execution_count": 81
        }
      ]
    },
    {
      "cell_type": "code",
      "metadata": {
        "id": "hgVMJdVsa595"
      },
      "source": [
        "import statistics\n",
        "from scipy import stats\n",
        "\n",
        "\n",
        "trade_sds = []\n",
        "\n",
        "#Favorite Partner, Trades (Players In and Out), Strategy\n",
        "for year in networks_by_year:\n",
        "  for n in networks_by_year[year].nodes():\n",
        "    neighbors = networks_by_year[year].neighbors(n)\n",
        "    max_weight = 0\n",
        "    favorite_partner = \"\"\n",
        "    #same conference same division\n",
        "    #same conference different division\n",
        "    #different conference\n",
        "    scsd = 0\n",
        "    scdd = 0\n",
        "    dc = 0\n",
        "    for i in neighbors:\n",
        "      weight = networks_by_year[year].edges[n,i]['weight']\n",
        "      if networks_by_year[year].nodes[n]['conference'] != networks_by_year[year].nodes[i]['conference']:\n",
        "        dc += weight\n",
        "      elif networks_by_year[year].nodes[n]['conference'] == networks_by_year[year].nodes[i]['conference'] and networks_by_year[year].nodes[n]['division'] == networks_by_year[year].nodes[i]['division']:\n",
        "        scsd += weight\n",
        "      elif networks_by_year[year].nodes[n]['conference'] == networks_by_year[year].nodes[i]['conference'] and networks_by_year[year].nodes[n]['division'] != networks_by_year[year].nodes[i]['division']:\n",
        "        scdd += weight\n",
        "      if weight > max_weight:\n",
        "        favorite_partner = i\n",
        "        max_weight = weight\n",
        "    networks_by_year[year].nodes[n]['favorite_partner'] = favorite_partner\n",
        "    networks_by_year[year].nodes[n]['favorite_partner_weight'] = max_weight\n",
        "    networks_by_year[year].nodes[n]['scsd'] = scsd\n",
        "    networks_by_year[year].nodes[n]['scdd'] = scdd\n",
        "    networks_by_year[year].nodes[n]['dc'] = dc\n",
        "    #classify the strategy\n",
        "    #standard deviation of types of trades < 1.5 is a balanced strategy. Otherwise the strategy is based on the weight of trades to each area of the league\n",
        "    trades = [scsd, scdd, dc]\n",
        "    std_dev = statistics.stdev(trades)\n",
        "    if std_dev < 1.5:\n",
        "      networks_by_year[year].nodes[n]['strategy'] = 'Balanced'\n",
        "    else:\n",
        "      if scsd > scdd and scsd > dc:\n",
        "        networks_by_year[year].nodes[n]['strategy'] = 'Local'\n",
        "      if scdd > scsd and scdd > dc:\n",
        "        networks_by_year[year].nodes[n]['strategy'] = 'Regional'\n",
        "      if dc > scdd and dc > scsd:\n",
        "        networks_by_year[year].nodes[n]['strategy'] = 'National'   "
      ],
      "execution_count": 82,
      "outputs": []
    },
    {
      "cell_type": "code",
      "metadata": {
        "id": "i-tLI8IpKI5t"
      },
      "source": [
        "#JSON Format for D3\n",
        "from networkx.readwrite import json_graph\n",
        "import json\n",
        "\n",
        "for year in networks_by_year:\n",
        "  data = json_graph.node_link_data(networks_by_year[year])\n",
        "  with open(f\"data_{year}.json\", 'w') as fp:\n",
        "    json.dump(data, fp)\n"
      ],
      "execution_count": 83,
      "outputs": []
    },
    {
      "cell_type": "code",
      "metadata": {
        "id": "xR-JnCW0LHnM"
      },
      "source": [
        "with open('data.json', 'w') as fp:\n",
        "    json.dump(data, fp)"
      ],
      "execution_count": null,
      "outputs": []
    },
    {
      "cell_type": "code",
      "metadata": {
        "id": "hMzRqV5BRutX"
      },
      "source": [
        "nx.write_weighted_edgelist(networks_by_year['2010 - 2011'], \"test.edgelist\")"
      ],
      "execution_count": null,
      "outputs": []
    },
    {
      "cell_type": "code",
      "metadata": {
        "colab": {
          "base_uri": "https://localhost:8080/"
        },
        "id": "Cu1D1jMuNQAI",
        "outputId": "82329660-6199-4cdc-fe0c-a03a6fd61e6e"
      },
      "source": [
        "nx.average_shortest_path_length(G)"
      ],
      "execution_count": null,
      "outputs": [
        {
          "output_type": "execute_result",
          "data": {
            "text/plain": [
              "2.1913978494623656"
            ]
          },
          "metadata": {
            "tags": []
          },
          "execution_count": 10
        }
      ]
    },
    {
      "cell_type": "code",
      "metadata": {
        "id": "biz2wM9LNt2a"
      },
      "source": [
        "page_rank_dict = nx.pagerank(G)\n",
        "bt_dict = nx.betweenness_centrality(G)"
      ],
      "execution_count": null,
      "outputs": []
    },
    {
      "cell_type": "code",
      "metadata": {
        "id": "ZoAVzCIHN9df"
      },
      "source": [
        "cups_df=pd.read_csv(\"stanley_cup_data.csv\")"
      ],
      "execution_count": null,
      "outputs": []
    },
    {
      "cell_type": "code",
      "metadata": {
        "colab": {
          "base_uri": "https://localhost:8080/",
          "height": 411
        },
        "id": "pXmX7ZvNPGeF",
        "outputId": "d414ee16-1dda-4876-f117-2ac61c44070c"
      },
      "source": [
        "cups_df.tail()"
      ],
      "execution_count": null,
      "outputs": [
        {
          "output_type": "execute_result",
          "data": {
            "text/html": [
              "<div>\n",
              "<style scoped>\n",
              "    .dataframe tbody tr th:only-of-type {\n",
              "        vertical-align: middle;\n",
              "    }\n",
              "\n",
              "    .dataframe tbody tr th {\n",
              "        vertical-align: top;\n",
              "    }\n",
              "\n",
              "    .dataframe thead th {\n",
              "        text-align: right;\n",
              "    }\n",
              "</style>\n",
              "<table border=\"1\" class=\"dataframe\">\n",
              "  <thead>\n",
              "    <tr style=\"text-align: right;\">\n",
              "      <th></th>\n",
              "      <th>Team</th>\n",
              "      <th>Wins</th>\n",
              "      <th>Losses</th>\n",
              "      <th>Win %</th>\n",
              "      <th>Division</th>\n",
              "      <th>Joined League</th>\n",
              "      <th>All GP</th>\n",
              "      <th>All W</th>\n",
              "      <th>All L</th>\n",
              "      <th>All T</th>\n",
              "      <th>All OTL</th>\n",
              "      <th>All Points</th>\n",
              "      <th>All PTS%</th>\n",
              "      <th>Cup Apps</th>\n",
              "      <th>Cup App Seasons</th>\n",
              "      <th>2017 - 2018 Rk</th>\n",
              "      <th>2017-2018 Overall</th>\n",
              "      <th>2017-2018 Shootout</th>\n",
              "      <th>2017-2018 Overtime</th>\n",
              "      <th>2017-2018 Home</th>\n",
              "      <th>2017-2018 Road</th>\n",
              "      <th>2017-2018 EAS</th>\n",
              "      <th>2017-2018 WES</th>\n",
              "      <th>2017-2018 ATL</th>\n",
              "      <th>2017-2018 MET</th>\n",
              "      <th>2017-2018 CEN</th>\n",
              "      <th>2017-2018 PAC</th>\n",
              "      <th>2017-2018 ≤1</th>\n",
              "      <th>2017-2018 ≥3</th>\n",
              "      <th>2017-2018 Oct</th>\n",
              "      <th>2017-2018 Nov</th>\n",
              "      <th>2017-2018 Dec</th>\n",
              "      <th>2017-2018 Jan</th>\n",
              "      <th>2017-2018 Feb</th>\n",
              "      <th>2017-2018 Mar</th>\n",
              "      <th>2017-2018 Apr</th>\n",
              "      <th>2018 - 2019 Rk</th>\n",
              "      <th>2018 - 2019 Overall</th>\n",
              "      <th>2018 - 2019 Shootout</th>\n",
              "      <th>2018 - 2019 Overtime</th>\n",
              "      <th>2018 - 2019 Home</th>\n",
              "      <th>2018 - 2019 Road</th>\n",
              "      <th>2018 - 2019 EAS</th>\n",
              "      <th>2018 - 2019 WES</th>\n",
              "      <th>2018 - 2019 ATL</th>\n",
              "      <th>2018 - 2019 MET</th>\n",
              "      <th>2018 - 2019 CEN</th>\n",
              "      <th>2018 - 2019 PAC</th>\n",
              "      <th>2018 - 2019 ≤1</th>\n",
              "      <th>2018 - 2019 ≥3</th>\n",
              "      <th>2018 - 2019 Oct</th>\n",
              "      <th>2018 - 2019 Nov</th>\n",
              "      <th>2018 - 2019 Dec</th>\n",
              "      <th>2018 - 2019 Jan</th>\n",
              "      <th>2018 - 2019 Feb</th>\n",
              "      <th>2018 - 2019 Mar</th>\n",
              "      <th>2018 - 2019 Apr</th>\n",
              "    </tr>\n",
              "  </thead>\n",
              "  <tbody>\n",
              "    <tr>\n",
              "      <th>26</th>\n",
              "      <td>Sabres</td>\n",
              "      <td>0</td>\n",
              "      <td>2</td>\n",
              "      <td>0.0</td>\n",
              "      <td>East</td>\n",
              "      <td>1970</td>\n",
              "      <td>3,889</td>\n",
              "      <td>1,790</td>\n",
              "      <td>1,530</td>\n",
              "      <td>409</td>\n",
              "      <td>160</td>\n",
              "      <td>4,149</td>\n",
              "      <td>0.533</td>\n",
              "      <td>2</td>\n",
              "      <td>1975, 1999</td>\n",
              "      <td>31</td>\n",
              "      <td>25-45-12</td>\n",
              "      <td>1-2</td>\n",
              "      <td>5-10</td>\n",
              "      <td>11-25-5</td>\n",
              "      <td>14-20-7</td>\n",
              "      <td>16-29-7</td>\n",
              "      <td>9-16-5</td>\n",
              "      <td>11-14-3</td>\n",
              "      <td>5-15-4</td>\n",
              "      <td>3-9-2</td>\n",
              "      <td>6-7-3</td>\n",
              "      <td>11-11-12</td>\n",
              "      <td>4-23-0</td>\n",
              "      <td>3-7-2</td>\n",
              "      <td>3-8-2</td>\n",
              "      <td>4-5-4</td>\n",
              "      <td>4-7-1</td>\n",
              "      <td>6-6-2</td>\n",
              "      <td>5-8-1</td>\n",
              "      <td>0-4-0</td>\n",
              "      <td>27</td>\n",
              "      <td>33-39-10</td>\n",
              "      <td>5-3</td>\n",
              "      <td>7-7</td>\n",
              "      <td>21-15-5</td>\n",
              "      <td>12-24-5</td>\n",
              "      <td>19-25-8</td>\n",
              "      <td>14-14-2</td>\n",
              "      <td>11-12-5</td>\n",
              "      <td>8-13-3</td>\n",
              "      <td>4-9-1</td>\n",
              "      <td>10-5-1</td>\n",
              "      <td>17-9-10</td>\n",
              "      <td>9-19-0</td>\n",
              "      <td>6-4-2</td>\n",
              "      <td>11-3-1</td>\n",
              "      <td>4-6-3</td>\n",
              "      <td>4-6-0</td>\n",
              "      <td>4-7-2</td>\n",
              "      <td>2-12-2</td>\n",
              "      <td>2-1-0</td>\n",
              "    </tr>\n",
              "    <tr>\n",
              "      <th>27</th>\n",
              "      <td>Senators</td>\n",
              "      <td>0</td>\n",
              "      <td>1</td>\n",
              "      <td>0.0</td>\n",
              "      <td>North</td>\n",
              "      <td>1992</td>\n",
              "      <td>2,139</td>\n",
              "      <td>948</td>\n",
              "      <td>912</td>\n",
              "      <td>115</td>\n",
              "      <td>164</td>\n",
              "      <td>2,175</td>\n",
              "      <td>0.508</td>\n",
              "      <td>1</td>\n",
              "      <td>2007</td>\n",
              "      <td>30</td>\n",
              "      <td>28-43-11</td>\n",
              "      <td>2-7</td>\n",
              "      <td>8-4</td>\n",
              "      <td>16-19-6</td>\n",
              "      <td>12-24-5</td>\n",
              "      <td>17-28-7</td>\n",
              "      <td>11-15-4</td>\n",
              "      <td>10-14-4</td>\n",
              "      <td>7-14-3</td>\n",
              "      <td>5-8-1</td>\n",
              "      <td>6-7-3</td>\n",
              "      <td>17-15-11</td>\n",
              "      <td>7-23-0</td>\n",
              "      <td>5-2-5</td>\n",
              "      <td>3-7-1</td>\n",
              "      <td>4-8-2</td>\n",
              "      <td>3-7-1</td>\n",
              "      <td>6-7-1</td>\n",
              "      <td>6-9-1</td>\n",
              "      <td>1-3-0</td>\n",
              "      <td>31</td>\n",
              "      <td>29-47-6</td>\n",
              "      <td>0-1</td>\n",
              "      <td>6-5</td>\n",
              "      <td>18-19-4</td>\n",
              "      <td>11-28-2</td>\n",
              "      <td>17-32-3</td>\n",
              "      <td>12-15-3</td>\n",
              "      <td>10-16-2</td>\n",
              "      <td>7-16-1</td>\n",
              "      <td>6-7-1</td>\n",
              "      <td>6-8-2</td>\n",
              "      <td>9-11-6</td>\n",
              "      <td>13-26-0</td>\n",
              "      <td>4-5-2</td>\n",
              "      <td>7-7-1</td>\n",
              "      <td>4-9-1</td>\n",
              "      <td>4-5-1</td>\n",
              "      <td>3-11-0</td>\n",
              "      <td>6-7-1</td>\n",
              "      <td>1-3-0</td>\n",
              "    </tr>\n",
              "    <tr>\n",
              "      <th>28</th>\n",
              "      <td>Sharks</td>\n",
              "      <td>0</td>\n",
              "      <td>1</td>\n",
              "      <td>0.0</td>\n",
              "      <td>West</td>\n",
              "      <td>1991</td>\n",
              "      <td>2,218</td>\n",
              "      <td>1,049</td>\n",
              "      <td>892</td>\n",
              "      <td>121</td>\n",
              "      <td>156</td>\n",
              "      <td>2,375</td>\n",
              "      <td>0.535</td>\n",
              "      <td>1</td>\n",
              "      <td>2016</td>\n",
              "      <td>11</td>\n",
              "      <td>45-27-10</td>\n",
              "      <td>5-3</td>\n",
              "      <td>5-7</td>\n",
              "      <td>25-13-3</td>\n",
              "      <td>20-14-7</td>\n",
              "      <td>16-13-3</td>\n",
              "      <td>29-14-7</td>\n",
              "      <td>8-5-3</td>\n",
              "      <td>8-8-0</td>\n",
              "      <td>8-9-4</td>\n",
              "      <td>21-5-3</td>\n",
              "      <td>18-4-10</td>\n",
              "      <td>17-9-0</td>\n",
              "      <td>6-5-0</td>\n",
              "      <td>7-3-2</td>\n",
              "      <td>7-4-2</td>\n",
              "      <td>6-4-4</td>\n",
              "      <td>8-5-1</td>\n",
              "      <td>10-4-1</td>\n",
              "      <td>1-2-0</td>\n",
              "      <td>6</td>\n",
              "      <td>46-27-9</td>\n",
              "      <td>0-3</td>\n",
              "      <td>8-6</td>\n",
              "      <td>25-11-5</td>\n",
              "      <td>21-16-4</td>\n",
              "      <td>14-13-5</td>\n",
              "      <td>32-14-4</td>\n",
              "      <td>6-8-2</td>\n",
              "      <td>8-5-3</td>\n",
              "      <td>15-6-0</td>\n",
              "      <td>17-8-4</td>\n",
              "      <td>18-5-9</td>\n",
              "      <td>22-14-0</td>\n",
              "      <td>6-3-3</td>\n",
              "      <td>6-6-2</td>\n",
              "      <td>9-4-2</td>\n",
              "      <td>8-3-0</td>\n",
              "      <td>8-3-1</td>\n",
              "      <td>7-7-1</td>\n",
              "      <td>2-1-0</td>\n",
              "    </tr>\n",
              "    <tr>\n",
              "      <th>29</th>\n",
              "      <td>Stars</td>\n",
              "      <td>1</td>\n",
              "      <td>4</td>\n",
              "      <td>0.2</td>\n",
              "      <td>Central</td>\n",
              "      <td>1967</td>\n",
              "      <td>4,115</td>\n",
              "      <td>1,819</td>\n",
              "      <td>1,689</td>\n",
              "      <td>459</td>\n",
              "      <td>148</td>\n",
              "      <td>4,245</td>\n",
              "      <td>0.516</td>\n",
              "      <td>5</td>\n",
              "      <td>1981, 1991, 1999, 2000, 2020</td>\n",
              "      <td>19</td>\n",
              "      <td>42-32-8</td>\n",
              "      <td>4-3</td>\n",
              "      <td>5-5</td>\n",
              "      <td>26-12-3</td>\n",
              "      <td>16-20-5</td>\n",
              "      <td>15-9-8</td>\n",
              "      <td>27-23-0</td>\n",
              "      <td>7-4-5</td>\n",
              "      <td>8-5-3</td>\n",
              "      <td>12-14-0</td>\n",
              "      <td>15-9-0</td>\n",
              "      <td>16-5-8</td>\n",
              "      <td>14-16-0</td>\n",
              "      <td>7-5-0</td>\n",
              "      <td>7-5-1</td>\n",
              "      <td>8-5-2</td>\n",
              "      <td>6-4-1</td>\n",
              "      <td>8-4-0</td>\n",
              "      <td>4-8-4</td>\n",
              "      <td>2-1-0</td>\n",
              "      <td>15</td>\n",
              "      <td>43-32-7</td>\n",
              "      <td>1-2</td>\n",
              "      <td>6-5</td>\n",
              "      <td>24-14-3</td>\n",
              "      <td>19-18-4</td>\n",
              "      <td>15-15-2</td>\n",
              "      <td>28-17-5</td>\n",
              "      <td>9-5-2</td>\n",
              "      <td>6-10-0</td>\n",
              "      <td>14-10-2</td>\n",
              "      <td>14-7-3</td>\n",
              "      <td>17-10-7</td>\n",
              "      <td>15-13-0</td>\n",
              "      <td>6-5-0</td>\n",
              "      <td>7-5-3</td>\n",
              "      <td>7-6-1</td>\n",
              "      <td>5-5-0</td>\n",
              "      <td>7-6-1</td>\n",
              "      <td>9-4-2</td>\n",
              "      <td>2-1-0</td>\n",
              "    </tr>\n",
              "    <tr>\n",
              "      <th>30</th>\n",
              "      <td>Wild</td>\n",
              "      <td>0</td>\n",
              "      <td>0</td>\n",
              "      <td>0.0</td>\n",
              "      <td>West</td>\n",
              "      <td>2000</td>\n",
              "      <td>1,511</td>\n",
              "      <td>724</td>\n",
              "      <td>583</td>\n",
              "      <td>55</td>\n",
              "      <td>149</td>\n",
              "      <td>1,652</td>\n",
              "      <td>0.547</td>\n",
              "      <td>0</td>\n",
              "      <td>0</td>\n",
              "      <td>8</td>\n",
              "      <td>45-26-11</td>\n",
              "      <td>3-3</td>\n",
              "      <td>4-8</td>\n",
              "      <td>27-6-8</td>\n",
              "      <td>18-20-3</td>\n",
              "      <td>20-8-4</td>\n",
              "      <td>25-18-7</td>\n",
              "      <td>10-5-1</td>\n",
              "      <td>10-3-3</td>\n",
              "      <td>13-12-1</td>\n",
              "      <td>12-6-6</td>\n",
              "      <td>12-4-11</td>\n",
              "      <td>20-14-0</td>\n",
              "      <td>4-4-2</td>\n",
              "      <td>8-6-1</td>\n",
              "      <td>8-6-0</td>\n",
              "      <td>7-2-2</td>\n",
              "      <td>9-2-2</td>\n",
              "      <td>7-5-3</td>\n",
              "      <td>2-1-1</td>\n",
              "      <td>21</td>\n",
              "      <td>37-36-9</td>\n",
              "      <td>1-4</td>\n",
              "      <td>3-5</td>\n",
              "      <td>16-18-7</td>\n",
              "      <td>21-18-2</td>\n",
              "      <td>14-14-4</td>\n",
              "      <td>23-22-5</td>\n",
              "      <td>9-6-1</td>\n",
              "      <td>5-8-3</td>\n",
              "      <td>12-10-4</td>\n",
              "      <td>11-12-1</td>\n",
              "      <td>18-9-9</td>\n",
              "      <td>11-20-0</td>\n",
              "      <td>7-3-2</td>\n",
              "      <td>7-6-0</td>\n",
              "      <td>4-8-1</td>\n",
              "      <td>8-4-0</td>\n",
              "      <td>5-6-3</td>\n",
              "      <td>5-7-3</td>\n",
              "      <td>1-2-0</td>\n",
              "    </tr>\n",
              "  </tbody>\n",
              "</table>\n",
              "</div>"
            ],
            "text/plain": [
              "        Team  Wins Losses  ...  2018 - 2019 Feb 2018 - 2019 Mar  2018 - 2019 Apr\n",
              "26    Sabres     0      2  ...            4-7-2          2-12-2            2-1-0\n",
              "27  Senators     0      1  ...           3-11-0           6-7-1            1-3-0\n",
              "28    Sharks     0      1  ...            8-3-1           7-7-1            2-1-0\n",
              "29     Stars     1      4  ...            7-6-1           9-4-2            2-1-0\n",
              "30      Wild     0      0  ...            5-6-3           5-7-3            1-2-0\n",
              "\n",
              "[5 rows x 57 columns]"
            ]
          },
          "metadata": {
            "tags": []
          },
          "execution_count": 15
        }
      ]
    },
    {
      "cell_type": "code",
      "metadata": {
        "id": "qF_wav6iPMzF",
        "colab": {
          "base_uri": "https://localhost:8080/",
          "height": 52
        },
        "outputId": "89094429-94fe-4adb-9ed2-a8f2f79926cf"
      },
      "source": [
        "'''\n",
        "for index, row in cups_df.iterrows():\n",
        "  team = row['Team']\n",
        "  teams[team]['cup_appearances'] = row['Cup Apps']\n",
        "  teams[team]['cup_wins'] = row['Wins']\n",
        "  teams[team]['cup_losses'] = row['Losses']\n",
        "  teams[team]['cup_win_pct'] = row['Win %']\n",
        "  teams[team]['Division'] = row['Division']\n",
        "  teams[team]['All PTS%'] = row['All PTS%']\n",
        "'''"
      ],
      "execution_count": null,
      "outputs": [
        {
          "output_type": "execute_result",
          "data": {
            "application/vnd.google.colaboratory.intrinsic+json": {
              "type": "string"
            },
            "text/plain": [
              "\"\\nfor index, row in cups_df.iterrows():\\n  team = row['Team']\\n  teams[team]['cup_appearances'] = row['Cup Apps']\\n  teams[team]['cup_wins'] = row['Wins']\\n  teams[team]['cup_losses'] = row['Losses']\\n  teams[team]['cup_win_pct'] = row['Win %']\\n  teams[team]['Division'] = row['Division']\\n  teams[team]['All PTS%'] = row['All PTS%']\\n\""
            ]
          },
          "metadata": {
            "tags": []
          },
          "execution_count": 16
        }
      ]
    },
    {
      "cell_type": "code",
      "metadata": {
        "id": "_jvRA_2sIBAb"
      },
      "source": [
        "team_idx=['Avalanche',\n",
        "'Blackhawks',\n",
        "'BlueJackets',\n",
        "'Blues',\n",
        "'Bruins',\n",
        "'Canadiens',\n",
        "'Canucks',\n",
        "'Capitals',\n",
        "'Coyotes',\n",
        "'Devils',\n",
        "'Ducks',\n",
        "'Flames',\n",
        "'Flyers',\n",
        "'GoldenKnights',\n",
        "'Hurricanes',\n",
        "'Islanders',\n",
        "'Jets',\n",
        "'Kings',\n",
        "'Lightning',\n",
        "'MapleLeafs',\n",
        "'Oilers',\n",
        "'Panthers',\n",
        "'Penguins',\n",
        "'Predators',\n",
        "'Rangers',\n",
        "'RedWings',\n",
        "'Sabres',\n",
        "'Senators',\n",
        "'Sharks',\n",
        "'Stars',\n",
        "'Wild']"
      ],
      "execution_count": null,
      "outputs": []
    },
    {
      "cell_type": "code",
      "metadata": {
        "id": "3q2mvzC0Pyvr"
      },
      "source": [
        "page_rank_list=[value for value in page_rank_dict.values()]\n",
        "bt_list=[value for value in bt_dict.values()]\n",
        "\n",
        "rk_list = []\n",
        "cup_win_pct_list = []\n",
        "win_pct_list = []\n",
        "\n",
        "for key in page_rank_dict:\n",
        "  rk_list.append(cups_df['2018 - 2019 Rk'][team_idx.index(key)])\n",
        "\n",
        "for key in page_rank_dict:\n",
        "  record = cups_df['2018 - 2019 Overall'][team_idx.index(key)].split('-')\n",
        "  record = [int(x) for x in record]\n",
        "  win_pct = record[0] / sum(record)\n",
        "  win_pct_list.append(win_pct)\n",
        "\n",
        "\n",
        "#for key in page_rank_dict:\n",
        "#  cup_win_pct_list.append(teams[key][\"cup_win_pct\"])  "
      ],
      "execution_count": null,
      "outputs": []
    },
    {
      "cell_type": "code",
      "metadata": {
        "colab": {
          "base_uri": "https://localhost:8080/",
          "height": 296
        },
        "id": "1Np0tqkbQiS0",
        "outputId": "c27f34ba-92f7-40f1-a48a-c588fa312502"
      },
      "source": [
        "plt.xlabel(\"PageRank\")\n",
        "plt.ylabel(\"All Points %\")\n",
        "#plt.scatter(x=page_rank_list, y=all_pts_pct_list, color='red')\n",
        "#plt.scatter(x=page_rank_list, y=cup_win_pct_list, color='blue')\n",
        "plt.scatter(x=page_rank_list, y=win_pct_list, color='green')\n",
        "#plt.scatter(x=bt_list, y=cup_win_pct_list, color='pink')"
      ],
      "execution_count": null,
      "outputs": [
        {
          "output_type": "execute_result",
          "data": {
            "text/plain": [
              "<matplotlib.collections.PathCollection at 0x7f039c0ba7d0>"
            ]
          },
          "metadata": {
            "tags": []
          },
          "execution_count": 19
        },
        {
          "output_type": "display_data",
          "data": {
            "image/png": "[encoded data removed]",
            "text/plain": [
              "<Figure size 432x288 with 1 Axes>"
            ]
          },
          "metadata": {
            "tags": [],
            "needs_background": "light"
          }
        }
      ]
    },
    {
      "cell_type": "code",
      "metadata": {
        "id": "7tqym5X3XzZA",
        "colab": {
          "base_uri": "https://localhost:8080/"
        },
        "outputId": "1683c5fa-dda3-44fe-a350-7ac350b0ff70"
      },
      "source": [
        "from scipy.stats import pearsonr\n",
        "corr, _ = pearsonr(win_pct_list,page_rank_list)\n",
        "print('Pearsons correlation: %.3f' % corr)"
      ],
      "execution_count": null,
      "outputs": [
        {
          "output_type": "stream",
          "text": [
            "Pearsons correlation: -0.250\n"
          ],
          "name": "stdout"
        }
      ]
    },
    {
      "cell_type": "code",
      "metadata": {
        "colab": {
          "base_uri": "https://localhost:8080/"
        },
        "id": "5QrpJDa0fmm6",
        "outputId": "069dba6d-7b11-48d9-92d0-a947d86d379f"
      },
      "source": [
        "from networkx.algorithms import community\n",
        "from networkx.algorithms.community import k_clique_communities\n",
        "from networkx.algorithms.community import greedy_modularity_communities\n",
        "\n",
        "c = list(greedy_modularity_communities(G))\n",
        "sorted(c)"
      ],
      "execution_count": null,
      "outputs": [
        {
          "output_type": "execute_result",
          "data": {
            "text/plain": [
              "[frozenset({'Avalanche',\n",
              "            'Canadiens',\n",
              "            'Capitals',\n",
              "            'GoldenKnights',\n",
              "            'Jets',\n",
              "            'MapleLeafs',\n",
              "            'Predators',\n",
              "            'Senators',\n",
              "            'Sharks'}),\n",
              " frozenset({'Blackhawks',\n",
              "            'Flames',\n",
              "            'Oilers',\n",
              "            'Panthers',\n",
              "            'Penguins',\n",
              "            'Sabres',\n",
              "            'Stars',\n",
              "            'Wild'}),\n",
              " frozenset({'BlueJackets',\n",
              "            'Bruins',\n",
              "            'Coyotes',\n",
              "            'Devils',\n",
              "            'Ducks',\n",
              "            'Islanders',\n",
              "            'Lightning'}),\n",
              " frozenset({'Blues', 'Canucks', 'Kings', 'RedWings'}),\n",
              " frozenset({'Flyers', 'Hurricanes', 'Rangers'})]"
            ]
          },
          "metadata": {
            "tags": []
          },
          "execution_count": 21
        }
      ]
    },
    {
      "cell_type": "code",
      "metadata": {
        "id": "0X1KOiHzKsJ1"
      },
      "source": [
        ""
      ],
      "execution_count": null,
      "outputs": []
    }
  ]
}