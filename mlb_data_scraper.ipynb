{
  "nbformat": 4,
  "nbformat_minor": 0,
  "metadata": {
    "colab": {
      "name": "Untitled2.ipynb",
      "provenance": []
    },
    "kernelspec": {
      "name": "python3",
      "display_name": "Python 3"
    },
    "language_info": {
      "name": "python"
    }
  },
  "cells": [
    {
      "cell_type": "code",
      "metadata": {
        "id": "V8GFeJ6WIaoD"
      },
      "source": [
        "import pandas as pd\n",
        "import requests\n",
        "from bs4 import BeautifulSoup\n",
        "import csv\n",
        "import html5lib\n",
        "import time"
      ],
      "execution_count": 1,
      "outputs": []
    },
    {
      "cell_type": "code",
      "metadata": {
        "colab": {
          "base_uri": "https://localhost:8080/"
        },
        "id": "dZExVOyDIcuh",
        "outputId": "f579a760-b6e6-4a15-fa04-6fb3d43a683b"
      },
      "source": [
        "n=0\n",
        "df=pd.DataFrame(columns=[\"Date\", \"Team\",\"Acquired\",\"Relinquished\",\"Notes\"])\n",
        "\n",
        "while n< 216651:\n",
        "  table = None\n",
        "  while isinstance(table, type(None)):\n",
        "    print(n)\n",
        "    page = f'insert url here/start={n}'\n",
        "\n",
        "    table_text=[]\n",
        "    page = requests.get(page)\n",
        "    #time.sleep(4)\n",
        "    soup = BeautifulSoup(page.text, 'html.parser')\n",
        "\n",
        "    table = soup.find( \"table\", {\"class\":\"datatable center\"} )\n",
        "\n",
        "  table_rows = table.find_all('tr')\n",
        "    \n",
        "  for tr in table_rows:\n",
        "    td = tr.find_all('td')\n",
        "    row = [tr.text for tr in td]\n",
        "    table_text.append(row)\n",
        "  df = df.append(table_text)\n",
        "  \n",
        "  n+=25\n",
        "df.to_csv(\"Baseball_trades_0\")"
      ],
      "execution_count": null,
      "outputs": [
        {
          "output_type": "stream",
          "text": [
            "0\n",
            "25\n",
            "50\n",
            "50\n",
            "75\n",
            "100\n",
            "125\n",
            "150\n",
            "175\n",
            "200\n",
            "225\n",
            "250\n",
            "275\n",
            "300\n",
            "325\n",
            "325\n",
            "350\n",
            "375\n",
            "400\n",
            "425\n",
            "450\n",
            "450\n",
            "450\n",
            "475\n",
            "500\n",
            "525\n",
            "550\n",
            "575\n",
            "600\n",
            "625\n",
            "650\n",
            "675\n",
            "700\n",
            "725\n",
            "725\n",
            "750\n",
            "775\n",
            "800\n",
            "825\n",
            "850\n",
            "875\n",
            "900\n",
            "925\n",
            "950\n",
            "975\n",
            "975\n",
            "1000\n",
            "1025\n",
            "1050\n",
            "1075\n",
            "1100\n",
            "1100\n",
            "1125\n",
            "1150\n",
            "1150\n",
            "1175\n",
            "1200\n",
            "1225\n",
            "1225\n",
            "1250\n"
          ],
          "name": "stdout"
        }
      ]
    },
    {
      "cell_type": "code",
      "metadata": {
        "id": "vjjAz4_OJM62"
      },
      "source": [
        "from google.colab import files\n",
        "files.download('Baseball_trades_0.csv')"
      ],
      "execution_count": null,
      "outputs": []
    },
    {
      "cell_type": "code",
      "metadata": {
        "id": "pju4SDRxeDqv"
      },
      "source": [
        ""
      ],
      "execution_count": null,
      "outputs": []
    }
  ]
}
